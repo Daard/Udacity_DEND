{
 "cells": [
  {
   "cell_type": "markdown",
   "metadata": {
    "editable": true
   },
   "source": [
    "# ETL Processes\n",
    "Use this notebook to develop the ETL process for each of your tables before completing the `etl.py` file to load the whole datasets."
   ]
  },
  {
   "cell_type": "code",
   "execution_count": 34,
   "metadata": {
    "editable": true
   },
   "outputs": [
    {
     "name": "stdout",
     "output_type": "stream",
     "text": [
      "The autoreload extension is already loaded. To reload it, use:\n",
      "  %reload_ext autoreload\n"
     ]
    }
   ],
   "source": [
    "import os\n",
    "import glob\n",
    "import psycopg2\n",
    "import pandas as pd\n",
    "from sql_queries import *\n",
    "import numpy as np\n",
    "\n",
    "%load_ext autoreload\n",
    "%autoreload"
   ]
  },
  {
   "cell_type": "code",
   "execution_count": 2,
   "metadata": {
    "editable": true
   },
   "outputs": [],
   "source": [
    "conn = psycopg2.connect(\"host=127.0.0.1 dbname=sparkifydb user=student password=student\")\n",
    "cur = conn.cursor()"
   ]
  },
  {
   "cell_type": "code",
   "execution_count": 3,
   "metadata": {
    "editable": true
   },
   "outputs": [],
   "source": [
    "def get_files(filepath):\n",
    "    all_files = []\n",
    "    for root, dirs, files in os.walk(filepath):\n",
    "        files = glob.glob(os.path.join(root,'*.json'))\n",
    "        for f in files :\n",
    "            all_files.append(os.path.abspath(f))\n",
    "    \n",
    "    return all_files"
   ]
  },
  {
   "cell_type": "markdown",
   "metadata": {
    "editable": true
   },
   "source": [
    "# Process `song_data`\n",
    "In this first part, you'll perform ETL on the first dataset, `song_data`, to create the `songs` and `artists` dimensional tables.\n",
    "\n",
    "Let's perform ETL on a single song file and load a single record into each table to start.\n",
    "- Use the `get_files` function provided above to get a list of all song JSON files in `data/song_data`\n",
    "- Select the first song in this list\n",
    "- Read the song file and view the data"
   ]
  },
  {
   "cell_type": "code",
   "execution_count": 4,
   "metadata": {
    "editable": true
   },
   "outputs": [],
   "source": [
    "song_files = get_files('./data/song_data/')"
   ]
  },
  {
   "cell_type": "code",
   "execution_count": 5,
   "metadata": {
    "editable": true
   },
   "outputs": [
    {
     "data": {
      "text/plain": [
       "'/home/workspace/data/song_data/A/B/C/TRABCRU128F423F449.json'"
      ]
     },
     "execution_count": 5,
     "metadata": {},
     "output_type": "execute_result"
    }
   ],
   "source": [
    "filepath = song_files[0]\n",
    "filepath"
   ]
  },
  {
   "cell_type": "code",
   "execution_count": 6,
   "metadata": {
    "editable": true
   },
   "outputs": [
    {
     "data": {
      "text/html": [
       "<div>\n",
       "<style scoped>\n",
       "    .dataframe tbody tr th:only-of-type {\n",
       "        vertical-align: middle;\n",
       "    }\n",
       "\n",
       "    .dataframe tbody tr th {\n",
       "        vertical-align: top;\n",
       "    }\n",
       "\n",
       "    .dataframe thead th {\n",
       "        text-align: right;\n",
       "    }\n",
       "</style>\n",
       "<table border=\"1\" class=\"dataframe\">\n",
       "  <thead>\n",
       "    <tr style=\"text-align: right;\">\n",
       "      <th></th>\n",
       "      <th>artist_id</th>\n",
       "      <th>artist_latitude</th>\n",
       "      <th>artist_location</th>\n",
       "      <th>artist_longitude</th>\n",
       "      <th>artist_name</th>\n",
       "      <th>duration</th>\n",
       "      <th>num_songs</th>\n",
       "      <th>song_id</th>\n",
       "      <th>title</th>\n",
       "      <th>year</th>\n",
       "    </tr>\n",
       "  </thead>\n",
       "  <tbody>\n",
       "    <tr>\n",
       "      <th>0</th>\n",
       "      <td>AR8IEZO1187B99055E</td>\n",
       "      <td>NaN</td>\n",
       "      <td></td>\n",
       "      <td>NaN</td>\n",
       "      <td>Marc Shaiman</td>\n",
       "      <td>149.86404</td>\n",
       "      <td>1</td>\n",
       "      <td>SOINLJW12A8C13314C</td>\n",
       "      <td>City Slickers</td>\n",
       "      <td>2008</td>\n",
       "    </tr>\n",
       "  </tbody>\n",
       "</table>\n",
       "</div>"
      ],
      "text/plain": [
       "            artist_id  artist_latitude artist_location  artist_longitude  \\\n",
       "0  AR8IEZO1187B99055E              NaN                               NaN   \n",
       "\n",
       "    artist_name   duration  num_songs             song_id          title  year  \n",
       "0  Marc Shaiman  149.86404          1  SOINLJW12A8C13314C  City Slickers  2008  "
      ]
     },
     "execution_count": 6,
     "metadata": {},
     "output_type": "execute_result"
    }
   ],
   "source": [
    "df = pd.read_json(filepath, lines=True)\n",
    "df.head()"
   ]
  },
  {
   "cell_type": "markdown",
   "metadata": {
    "editable": true
   },
   "source": [
    "## #1: `songs` Table\n",
    "#### Extract Data for Songs Table\n",
    "- Select columns for song ID, title, artist ID, year, and duration\n",
    "- Use `df.values` to select just the values from the dataframe\n",
    "- Index to select the first (only) record in the dataframe\n",
    "- Convert the array to a list and set it to `song_data`"
   ]
  },
  {
   "cell_type": "code",
   "execution_count": 43,
   "metadata": {
    "editable": true
   },
   "outputs": [
    {
     "data": {
      "text/plain": [
       "5"
      ]
     },
     "execution_count": 43,
     "metadata": {},
     "output_type": "execute_result"
    }
   ],
   "source": [
    "len(song_data)"
   ]
  },
  {
   "cell_type": "code",
   "execution_count": 7,
   "metadata": {
    "editable": true
   },
   "outputs": [
    {
     "data": {
      "text/plain": [
       "['SOINLJW12A8C13314C',\n",
       " 'City Slickers',\n",
       " 'AR8IEZO1187B99055E',\n",
       " 2008,\n",
       " 149.86403999999999]"
      ]
     },
     "execution_count": 7,
     "metadata": {},
     "output_type": "execute_result"
    }
   ],
   "source": [
    "song_data = list(df.loc[0, ['song_id', 'title', 'artist_id', 'year', 'duration']].values)\n",
    "song_data[-2] = int(song_data[-2])\n",
    "song_data"
   ]
  },
  {
   "cell_type": "markdown",
   "metadata": {
    "editable": true
   },
   "source": [
    "#### Insert Record into Song Table\n",
    "Implement the `song_table_insert` query in `sql_queries.py` and run the cell below to insert a record for this song into the `songs` table. Remember to run `create_tables.py` before running the cell below to ensure you've created/resetted the `songs` table in the sparkify database."
   ]
  },
  {
   "cell_type": "code",
   "execution_count": 8,
   "metadata": {
    "editable": true
   },
   "outputs": [],
   "source": [
    "cur.execute(song_table_insert, song_data)\n",
    "conn.commit()"
   ]
  },
  {
   "cell_type": "markdown",
   "metadata": {
    "editable": true
   },
   "source": [
    "Run `test.ipynb` to see if you've successfully added a record to this table."
   ]
  },
  {
   "cell_type": "markdown",
   "metadata": {
    "editable": true
   },
   "source": [
    "## #2: `artists` Table\n",
    "#### Extract Data for Artists Table\n",
    "- Select columns for artist ID, name, location, latitude, and longitude\n",
    "- Use `df.values` to select just the values from the dataframe\n",
    "- Index to select the first (only) record in the dataframe\n",
    "- Convert the array to a list and set it to `artist_data`"
   ]
  },
  {
   "cell_type": "code",
   "execution_count": 9,
   "metadata": {
    "editable": true
   },
   "outputs": [
    {
     "data": {
      "text/plain": [
       "['AR8IEZO1187B99055E', 'Marc Shaiman', '', 0, 0]"
      ]
     },
     "execution_count": 9,
     "metadata": {},
     "output_type": "execute_result"
    }
   ],
   "source": [
    "artist_data = list(df.fillna(0).loc[0, ['artist_id', 'artist_name', 'artist_location', 'artist_latitude', 'artist_longitude']].values)\n",
    "artist_data[-1] = int(artist_data[-1])\n",
    "artist_data[-2] = int(artist_data[-2])\n",
    "artist_data"
   ]
  },
  {
   "cell_type": "markdown",
   "metadata": {
    "editable": true
   },
   "source": [
    "#### Insert Record into Artist Table\n",
    "Implement the `artist_table_insert` query in `sql_queries.py` and run the cell below to insert a record for this song's artist into the `artists` table. Remember to run `create_tables.py` before running the cell below to ensure you've created/resetted the `artists` table in the sparkify database."
   ]
  },
  {
   "cell_type": "code",
   "execution_count": 10,
   "metadata": {
    "editable": true
   },
   "outputs": [],
   "source": [
    "cur.execute(artist_table_insert, artist_data)\n",
    "conn.commit()"
   ]
  },
  {
   "cell_type": "markdown",
   "metadata": {
    "editable": true
   },
   "source": [
    "Run `test.ipynb` to see if you've successfully added a record to this table."
   ]
  },
  {
   "cell_type": "markdown",
   "metadata": {
    "editable": true
   },
   "source": [
    "# Process `log_data`\n",
    "In this part, you'll perform ETL on the second dataset, `log_data`, to create the `time` and `users` dimensional tables, as well as the `songplays` fact table.\n",
    "\n",
    "Let's perform ETL on a single log file and load a single record into each table.\n",
    "- Use the `get_files` function provided above to get a list of all log JSON files in `data/log_data`\n",
    "- Select the first log file in this list\n",
    "- Read the log file and view the data"
   ]
  },
  {
   "cell_type": "code",
   "execution_count": 11,
   "metadata": {
    "editable": true
   },
   "outputs": [],
   "source": [
    "log_files = get_files('./data/log_data')"
   ]
  },
  {
   "cell_type": "code",
   "execution_count": 12,
   "metadata": {
    "editable": true
   },
   "outputs": [],
   "source": [
    "filepath = log_files[0]"
   ]
  },
  {
   "cell_type": "code",
   "execution_count": 13,
   "metadata": {
    "editable": true
   },
   "outputs": [
    {
     "data": {
      "text/html": [
       "<div>\n",
       "<style scoped>\n",
       "    .dataframe tbody tr th:only-of-type {\n",
       "        vertical-align: middle;\n",
       "    }\n",
       "\n",
       "    .dataframe tbody tr th {\n",
       "        vertical-align: top;\n",
       "    }\n",
       "\n",
       "    .dataframe thead th {\n",
       "        text-align: right;\n",
       "    }\n",
       "</style>\n",
       "<table border=\"1\" class=\"dataframe\">\n",
       "  <thead>\n",
       "    <tr style=\"text-align: right;\">\n",
       "      <th></th>\n",
       "      <th>artist</th>\n",
       "      <th>auth</th>\n",
       "      <th>firstName</th>\n",
       "      <th>gender</th>\n",
       "      <th>itemInSession</th>\n",
       "      <th>lastName</th>\n",
       "      <th>length</th>\n",
       "      <th>level</th>\n",
       "      <th>location</th>\n",
       "      <th>method</th>\n",
       "      <th>page</th>\n",
       "      <th>registration</th>\n",
       "      <th>sessionId</th>\n",
       "      <th>song</th>\n",
       "      <th>status</th>\n",
       "      <th>ts</th>\n",
       "      <th>userAgent</th>\n",
       "      <th>userId</th>\n",
       "    </tr>\n",
       "  </thead>\n",
       "  <tbody>\n",
       "    <tr>\n",
       "      <th>0</th>\n",
       "      <td>Sydney Youngblood</td>\n",
       "      <td>Logged In</td>\n",
       "      <td>Jacob</td>\n",
       "      <td>M</td>\n",
       "      <td>53</td>\n",
       "      <td>Klein</td>\n",
       "      <td>238.07955</td>\n",
       "      <td>paid</td>\n",
       "      <td>Tampa-St. Petersburg-Clearwater, FL</td>\n",
       "      <td>PUT</td>\n",
       "      <td>NextSong</td>\n",
       "      <td>1.540558e+12</td>\n",
       "      <td>954</td>\n",
       "      <td>Ain't No Sunshine</td>\n",
       "      <td>200</td>\n",
       "      <td>1543449657796</td>\n",
       "      <td>\"Mozilla/5.0 (Macintosh; Intel Mac OS X 10_9_4...</td>\n",
       "      <td>73</td>\n",
       "    </tr>\n",
       "  </tbody>\n",
       "</table>\n",
       "</div>"
      ],
      "text/plain": [
       "              artist       auth firstName gender  itemInSession lastName  \\\n",
       "0  Sydney Youngblood  Logged In     Jacob      M             53    Klein   \n",
       "\n",
       "      length level                             location method      page  \\\n",
       "0  238.07955  paid  Tampa-St. Petersburg-Clearwater, FL    PUT  NextSong   \n",
       "\n",
       "   registration  sessionId               song  status             ts  \\\n",
       "0  1.540558e+12        954  Ain't No Sunshine     200  1543449657796   \n",
       "\n",
       "                                           userAgent userId  \n",
       "0  \"Mozilla/5.0 (Macintosh; Intel Mac OS X 10_9_4...     73  "
      ]
     },
     "execution_count": 13,
     "metadata": {},
     "output_type": "execute_result"
    }
   ],
   "source": [
    "df = pd.read_json(filepath, lines=True)\n",
    "df.head(1)"
   ]
  },
  {
   "cell_type": "markdown",
   "metadata": {
    "editable": true
   },
   "source": [
    "## #3: `time` Table\n",
    "#### Extract Data for Time Table\n",
    "- Filter records by `NextSong` action\n",
    "- Convert the `ts` timestamp column to datetime\n",
    "  - Hint: the current timestamp is in milliseconds\n",
    "- Extract the timestamp, hour, day, week of year, month, year, and weekday from the `ts` column and set `time_data` to a list containing these values in order\n",
    "  - Hint: use pandas' [`dt` attribute](https://pandas.pydata.org/pandas-docs/stable/reference/api/pandas.Series.dt.html) to access easily datetimelike properties.\n",
    "- Specify labels for these columns and set to `column_labels`\n",
    "- Create a dataframe, `time_df,` containing the time data for this file by combining `column_labels` and `time_data` into a dictionary and converting this into a dataframe"
   ]
  },
  {
   "cell_type": "code",
   "execution_count": 14,
   "metadata": {
    "editable": true
   },
   "outputs": [
    {
     "data": {
      "text/html": [
       "<div>\n",
       "<style scoped>\n",
       "    .dataframe tbody tr th:only-of-type {\n",
       "        vertical-align: middle;\n",
       "    }\n",
       "\n",
       "    .dataframe tbody tr th {\n",
       "        vertical-align: top;\n",
       "    }\n",
       "\n",
       "    .dataframe thead th {\n",
       "        text-align: right;\n",
       "    }\n",
       "</style>\n",
       "<table border=\"1\" class=\"dataframe\">\n",
       "  <thead>\n",
       "    <tr style=\"text-align: right;\">\n",
       "      <th></th>\n",
       "      <th>artist</th>\n",
       "      <th>auth</th>\n",
       "      <th>firstName</th>\n",
       "      <th>gender</th>\n",
       "      <th>itemInSession</th>\n",
       "      <th>lastName</th>\n",
       "      <th>length</th>\n",
       "      <th>level</th>\n",
       "      <th>location</th>\n",
       "      <th>method</th>\n",
       "      <th>page</th>\n",
       "      <th>registration</th>\n",
       "      <th>sessionId</th>\n",
       "      <th>song</th>\n",
       "      <th>status</th>\n",
       "      <th>ts</th>\n",
       "      <th>userAgent</th>\n",
       "      <th>userId</th>\n",
       "    </tr>\n",
       "  </thead>\n",
       "  <tbody>\n",
       "    <tr>\n",
       "      <th>0</th>\n",
       "      <td>Sydney Youngblood</td>\n",
       "      <td>Logged In</td>\n",
       "      <td>Jacob</td>\n",
       "      <td>M</td>\n",
       "      <td>53</td>\n",
       "      <td>Klein</td>\n",
       "      <td>238.07955</td>\n",
       "      <td>paid</td>\n",
       "      <td>Tampa-St. Petersburg-Clearwater, FL</td>\n",
       "      <td>PUT</td>\n",
       "      <td>NextSong</td>\n",
       "      <td>1.540558e+12</td>\n",
       "      <td>954</td>\n",
       "      <td>Ain't No Sunshine</td>\n",
       "      <td>200</td>\n",
       "      <td>1543449657796</td>\n",
       "      <td>\"Mozilla/5.0 (Macintosh; Intel Mac OS X 10_9_4...</td>\n",
       "      <td>73</td>\n",
       "    </tr>\n",
       "    <tr>\n",
       "      <th>1</th>\n",
       "      <td>Gang Starr</td>\n",
       "      <td>Logged In</td>\n",
       "      <td>Layla</td>\n",
       "      <td>F</td>\n",
       "      <td>88</td>\n",
       "      <td>Griffin</td>\n",
       "      <td>151.92771</td>\n",
       "      <td>paid</td>\n",
       "      <td>Lake Havasu City-Kingman, AZ</td>\n",
       "      <td>PUT</td>\n",
       "      <td>NextSong</td>\n",
       "      <td>1.541057e+12</td>\n",
       "      <td>984</td>\n",
       "      <td>My Advice 2 You (Explicit)</td>\n",
       "      <td>200</td>\n",
       "      <td>1543449690796</td>\n",
       "      <td>\"Mozilla/5.0 (Windows NT 6.1; WOW64) AppleWebK...</td>\n",
       "      <td>24</td>\n",
       "    </tr>\n",
       "  </tbody>\n",
       "</table>\n",
       "</div>"
      ],
      "text/plain": [
       "              artist       auth firstName gender  itemInSession lastName  \\\n",
       "0  Sydney Youngblood  Logged In     Jacob      M             53    Klein   \n",
       "1         Gang Starr  Logged In     Layla      F             88  Griffin   \n",
       "\n",
       "      length level                             location method      page  \\\n",
       "0  238.07955  paid  Tampa-St. Petersburg-Clearwater, FL    PUT  NextSong   \n",
       "1  151.92771  paid         Lake Havasu City-Kingman, AZ    PUT  NextSong   \n",
       "\n",
       "   registration  sessionId                        song  status             ts  \\\n",
       "0  1.540558e+12        954           Ain't No Sunshine     200  1543449657796   \n",
       "1  1.541057e+12        984  My Advice 2 You (Explicit)     200  1543449690796   \n",
       "\n",
       "                                           userAgent userId  \n",
       "0  \"Mozilla/5.0 (Macintosh; Intel Mac OS X 10_9_4...     73  \n",
       "1  \"Mozilla/5.0 (Windows NT 6.1; WOW64) AppleWebK...     24  "
      ]
     },
     "execution_count": 14,
     "metadata": {},
     "output_type": "execute_result"
    }
   ],
   "source": [
    "df = df[df.page == 'NextSong']\n",
    "df.head(2)"
   ]
  },
  {
   "cell_type": "code",
   "execution_count": 15,
   "metadata": {
    "editable": true
   },
   "outputs": [
    {
     "data": {
      "text/plain": [
       "0   2018-11-29 00:00:57.796\n",
       "1   2018-11-29 00:01:30.796\n",
       "Name: ts, dtype: datetime64[ns]"
      ]
     },
     "execution_count": 15,
     "metadata": {},
     "output_type": "execute_result"
    }
   ],
   "source": [
    "t = pd.to_datetime(df.ts, unit='ms')\n",
    "t.head(2)"
   ]
  },
  {
   "cell_type": "code",
   "execution_count": 16,
   "metadata": {
    "editable": true
   },
   "outputs": [],
   "source": [
    "attrs = ['timestamp', 'hour', 'day', 'week', 'month', 'year', 'weekday']\n",
    "time_data = t.map(lambda x : [getattr(x, attr)() if callable(getattr(x, attr)) else getattr(x, attr) for attr in attrs])\n",
    "time_data = np.stack(time_data)\n",
    "column_labels = attrs"
   ]
  },
  {
   "cell_type": "code",
   "execution_count": 21,
   "metadata": {
    "editable": true
   },
   "outputs": [
    {
     "data": {
      "text/html": [
       "<div>\n",
       "<style scoped>\n",
       "    .dataframe tbody tr th:only-of-type {\n",
       "        vertical-align: middle;\n",
       "    }\n",
       "\n",
       "    .dataframe tbody tr th {\n",
       "        vertical-align: top;\n",
       "    }\n",
       "\n",
       "    .dataframe thead th {\n",
       "        text-align: right;\n",
       "    }\n",
       "</style>\n",
       "<table border=\"1\" class=\"dataframe\">\n",
       "  <thead>\n",
       "    <tr style=\"text-align: right;\">\n",
       "      <th></th>\n",
       "      <th>timestamp</th>\n",
       "      <th>hour</th>\n",
       "      <th>day</th>\n",
       "      <th>week</th>\n",
       "      <th>month</th>\n",
       "      <th>year</th>\n",
       "      <th>weekday</th>\n",
       "    </tr>\n",
       "  </thead>\n",
       "  <tbody>\n",
       "    <tr>\n",
       "      <th>0</th>\n",
       "      <td>1.543450e+09</td>\n",
       "      <td>0.0</td>\n",
       "      <td>29.0</td>\n",
       "      <td>48.0</td>\n",
       "      <td>11.0</td>\n",
       "      <td>2018.0</td>\n",
       "      <td>3.0</td>\n",
       "    </tr>\n",
       "    <tr>\n",
       "      <th>1</th>\n",
       "      <td>1.543450e+09</td>\n",
       "      <td>0.0</td>\n",
       "      <td>29.0</td>\n",
       "      <td>48.0</td>\n",
       "      <td>11.0</td>\n",
       "      <td>2018.0</td>\n",
       "      <td>3.0</td>\n",
       "    </tr>\n",
       "    <tr>\n",
       "      <th>2</th>\n",
       "      <td>1.543450e+09</td>\n",
       "      <td>0.0</td>\n",
       "      <td>29.0</td>\n",
       "      <td>48.0</td>\n",
       "      <td>11.0</td>\n",
       "      <td>2018.0</td>\n",
       "      <td>3.0</td>\n",
       "    </tr>\n",
       "    <tr>\n",
       "      <th>3</th>\n",
       "      <td>1.543450e+09</td>\n",
       "      <td>0.0</td>\n",
       "      <td>29.0</td>\n",
       "      <td>48.0</td>\n",
       "      <td>11.0</td>\n",
       "      <td>2018.0</td>\n",
       "      <td>3.0</td>\n",
       "    </tr>\n",
       "    <tr>\n",
       "      <th>4</th>\n",
       "      <td>1.543450e+09</td>\n",
       "      <td>0.0</td>\n",
       "      <td>29.0</td>\n",
       "      <td>48.0</td>\n",
       "      <td>11.0</td>\n",
       "      <td>2018.0</td>\n",
       "      <td>3.0</td>\n",
       "    </tr>\n",
       "  </tbody>\n",
       "</table>\n",
       "</div>"
      ],
      "text/plain": [
       "      timestamp  hour   day  week  month    year  weekday\n",
       "0  1.543450e+09   0.0  29.0  48.0   11.0  2018.0      3.0\n",
       "1  1.543450e+09   0.0  29.0  48.0   11.0  2018.0      3.0\n",
       "2  1.543450e+09   0.0  29.0  48.0   11.0  2018.0      3.0\n",
       "3  1.543450e+09   0.0  29.0  48.0   11.0  2018.0      3.0\n",
       "4  1.543450e+09   0.0  29.0  48.0   11.0  2018.0      3.0"
      ]
     },
     "execution_count": 21,
     "metadata": {},
     "output_type": "execute_result"
    }
   ],
   "source": [
    "time_df = pd.DataFrame(time_data, columns=column_labels)\n",
    "# time_df['timestamp'] = pd.to_datetime(time_df.timestamp)\n",
    "time_df.head()"
   ]
  },
  {
   "cell_type": "markdown",
   "metadata": {
    "editable": true
   },
   "source": [
    "#### Insert Records into Time Table\n",
    "Implement the `time_table_insert` query in `sql_queries.py` and run the cell below to insert records for the timestamps in this log file into the `time` table. Remember to run `create_tables.py` before running the cell below to ensure you've created/resetted the `time` table in the sparkify database."
   ]
  },
  {
   "cell_type": "code",
   "execution_count": 20,
   "metadata": {
    "collapsed": true,
    "editable": true,
    "jupyter": {
     "outputs_hidden": true
    }
   },
   "outputs": [
    {
     "name": "stdout",
     "output_type": "stream",
     "text": [
      "0 [Timestamp('1970-01-01 00:00:01.543449657'), 0.0, 29.0, 48.0, 11.0, 2018.0, 3.0]\n",
      "1 [Timestamp('1970-01-01 00:00:01.543449690'), 0.0, 29.0, 48.0, 11.0, 2018.0, 3.0]\n",
      "2 [Timestamp('1970-01-01 00:00:01.543449841'), 0.0, 29.0, 48.0, 11.0, 2018.0, 3.0]\n",
      "3 [Timestamp('1970-01-01 00:00:01.543449895'), 0.0, 29.0, 48.0, 11.0, 2018.0, 3.0]\n",
      "4 [Timestamp('1970-01-01 00:00:01.543450033'), 0.0, 29.0, 48.0, 11.0, 2018.0, 3.0]\n",
      "5 [Timestamp('1970-01-01 00:00:01.543450256'), 0.0, 29.0, 48.0, 11.0, 2018.0, 3.0]\n",
      "6 [Timestamp('1970-01-01 00:00:01.543450264'), 0.0, 29.0, 48.0, 11.0, 2018.0, 3.0]\n",
      "7 [Timestamp('1970-01-01 00:00:01.543450450'), 0.0, 29.0, 48.0, 11.0, 2018.0, 3.0]\n",
      "8 [Timestamp('1970-01-01 00:00:01.543450562'), 0.0, 29.0, 48.0, 11.0, 2018.0, 3.0]\n",
      "9 [Timestamp('1970-01-01 00:00:01.543450691'), 0.0, 29.0, 48.0, 11.0, 2018.0, 3.0]\n",
      "10 [Timestamp('1970-01-01 00:00:01.543450933'), 0.0, 29.0, 48.0, 11.0, 2018.0, 3.0]\n",
      "11 [Timestamp('1970-01-01 00:00:01.543451175'), 0.0, 29.0, 48.0, 11.0, 2018.0, 3.0]\n",
      "12 [Timestamp('1970-01-01 00:00:01.543451453'), 0.0, 29.0, 48.0, 11.0, 2018.0, 3.0]\n",
      "13 [Timestamp('1970-01-01 00:00:01.543451707'), 0.0, 29.0, 48.0, 11.0, 2018.0, 3.0]\n",
      "14 [Timestamp('1970-01-01 00:00:01.543452014'), 0.0, 29.0, 48.0, 11.0, 2018.0, 3.0]\n",
      "15 [Timestamp('1970-01-01 00:00:01.543452253'), 0.0, 29.0, 48.0, 11.0, 2018.0, 3.0]\n",
      "16 [Timestamp('1970-01-01 00:00:01.543452394'), 0.0, 29.0, 48.0, 11.0, 2018.0, 3.0]\n",
      "17 [Timestamp('1970-01-01 00:00:01.543452588'), 0.0, 29.0, 48.0, 11.0, 2018.0, 3.0]\n",
      "18 [Timestamp('1970-01-01 00:00:01.543453030'), 0.0, 29.0, 48.0, 11.0, 2018.0, 3.0]\n",
      "19 [Timestamp('1970-01-01 00:00:01.543453332'), 1.0, 29.0, 48.0, 11.0, 2018.0, 3.0]\n",
      "20 [Timestamp('1970-01-01 00:00:01.543453596'), 1.0, 29.0, 48.0, 11.0, 2018.0, 3.0]\n",
      "21 [Timestamp('1970-01-01 00:00:01.543453763'), 1.0, 29.0, 48.0, 11.0, 2018.0, 3.0]\n",
      "22 [Timestamp('1970-01-01 00:00:01.543453798'), 1.0, 29.0, 48.0, 11.0, 2018.0, 3.0]\n",
      "23 [Timestamp('1970-01-01 00:00:01.543454037'), 1.0, 29.0, 48.0, 11.0, 2018.0, 3.0]\n",
      "24 [Timestamp('1970-01-01 00:00:01.543454254'), 1.0, 29.0, 48.0, 11.0, 2018.0, 3.0]\n",
      "25 [Timestamp('1970-01-01 00:00:01.543454533'), 1.0, 29.0, 48.0, 11.0, 2018.0, 3.0]\n",
      "26 [Timestamp('1970-01-01 00:00:01.543454778'), 1.0, 29.0, 48.0, 11.0, 2018.0, 3.0]\n",
      "27 [Timestamp('1970-01-01 00:00:01.543455073'), 1.0, 29.0, 48.0, 11.0, 2018.0, 3.0]\n",
      "28 [Timestamp('1970-01-01 00:00:01.543455218'), 1.0, 29.0, 48.0, 11.0, 2018.0, 3.0]\n",
      "29 [Timestamp('1970-01-01 00:00:01.543455510'), 1.0, 29.0, 48.0, 11.0, 2018.0, 3.0]\n",
      "30 [Timestamp('1970-01-01 00:00:01.543455747'), 1.0, 29.0, 48.0, 11.0, 2018.0, 3.0]\n",
      "31 [Timestamp('1970-01-01 00:00:01.543456010'), 1.0, 29.0, 48.0, 11.0, 2018.0, 3.0]\n",
      "32 [Timestamp('1970-01-01 00:00:01.543456346'), 1.0, 29.0, 48.0, 11.0, 2018.0, 3.0]\n",
      "33 [Timestamp('1970-01-01 00:00:01.543456517'), 1.0, 29.0, 48.0, 11.0, 2018.0, 3.0]\n",
      "34 [Timestamp('1970-01-01 00:00:01.543458271'), 2.0, 29.0, 48.0, 11.0, 2018.0, 3.0]\n",
      "35 [Timestamp('1970-01-01 00:00:01.543458485'), 2.0, 29.0, 48.0, 11.0, 2018.0, 3.0]\n",
      "36 [Timestamp('1970-01-01 00:00:01.543458671'), 2.0, 29.0, 48.0, 11.0, 2018.0, 3.0]\n",
      "37 [Timestamp('1970-01-01 00:00:01.543458973'), 2.0, 29.0, 48.0, 11.0, 2018.0, 3.0]\n",
      "38 [Timestamp('1970-01-01 00:00:01.543459210'), 2.0, 29.0, 48.0, 11.0, 2018.0, 3.0]\n",
      "39 [Timestamp('1970-01-01 00:00:01.543460277'), 2.0, 29.0, 48.0, 11.0, 2018.0, 3.0]\n",
      "40 [Timestamp('1970-01-01 00:00:01.543460442'), 3.0, 29.0, 48.0, 11.0, 2018.0, 3.0]\n",
      "41 [Timestamp('1970-01-01 00:00:01.543460835'), 3.0, 29.0, 48.0, 11.0, 2018.0, 3.0]\n",
      "42 [Timestamp('1970-01-01 00:00:01.543465636'), 4.0, 29.0, 48.0, 11.0, 2018.0, 3.0]\n",
      "43 [Timestamp('1970-01-01 00:00:01.543465913'), 4.0, 29.0, 48.0, 11.0, 2018.0, 3.0]\n",
      "44 [Timestamp('1970-01-01 00:00:01.543467355'), 4.0, 29.0, 48.0, 11.0, 2018.0, 3.0]\n",
      "45 [Timestamp('1970-01-01 00:00:01.543467608'), 5.0, 29.0, 48.0, 11.0, 2018.0, 3.0]\n",
      "46 [Timestamp('1970-01-01 00:00:01.543479522'), 8.0, 29.0, 48.0, 11.0, 2018.0, 3.0]\n",
      "47 [Timestamp('1970-01-01 00:00:01.543479789'), 8.0, 29.0, 48.0, 11.0, 2018.0, 3.0]\n",
      "48 [Timestamp('1970-01-01 00:00:01.543489167'), 10.0, 29.0, 48.0, 11.0, 2018.0, 3.0]\n",
      "49 [Timestamp('1970-01-01 00:00:01.543489392'), 11.0, 29.0, 48.0, 11.0, 2018.0, 3.0]\n",
      "50 [Timestamp('1970-01-01 00:00:01.543489411'), 11.0, 29.0, 48.0, 11.0, 2018.0, 3.0]\n",
      "51 [Timestamp('1970-01-01 00:00:01.543489639'), 11.0, 29.0, 48.0, 11.0, 2018.0, 3.0]\n",
      "52 [Timestamp('1970-01-01 00:00:01.543489857'), 11.0, 29.0, 48.0, 11.0, 2018.0, 3.0]\n",
      "53 [Timestamp('1970-01-01 00:00:01.543494067'), 12.0, 29.0, 48.0, 11.0, 2018.0, 3.0]\n",
      "54 [Timestamp('1970-01-01 00:00:01.543497251'), 13.0, 29.0, 48.0, 11.0, 2018.0, 3.0]\n",
      "55 [Timestamp('1970-01-01 00:00:01.543499907'), 13.0, 29.0, 48.0, 11.0, 2018.0, 3.0]\n",
      "56 [Timestamp('1970-01-01 00:00:01.543500081'), 14.0, 29.0, 48.0, 11.0, 2018.0, 3.0]\n",
      "57 [Timestamp('1970-01-01 00:00:01.543500313'), 14.0, 29.0, 48.0, 11.0, 2018.0, 3.0]\n",
      "58 [Timestamp('1970-01-01 00:00:01.543500608'), 14.0, 29.0, 48.0, 11.0, 2018.0, 3.0]\n",
      "59 [Timestamp('1970-01-01 00:00:01.543500844'), 14.0, 29.0, 48.0, 11.0, 2018.0, 3.0]\n",
      "60 [Timestamp('1970-01-01 00:00:01.543501070'), 14.0, 29.0, 48.0, 11.0, 2018.0, 3.0]\n",
      "61 [Timestamp('1970-01-01 00:00:01.543501334'), 14.0, 29.0, 48.0, 11.0, 2018.0, 3.0]\n",
      "62 [Timestamp('1970-01-01 00:00:01.543501583'), 14.0, 29.0, 48.0, 11.0, 2018.0, 3.0]\n",
      "63 [Timestamp('1970-01-01 00:00:01.543501951'), 14.0, 29.0, 48.0, 11.0, 2018.0, 3.0]\n",
      "64 [Timestamp('1970-01-01 00:00:01.543502144'), 14.0, 29.0, 48.0, 11.0, 2018.0, 3.0]\n",
      "65 [Timestamp('1970-01-01 00:00:01.543502436'), 14.0, 29.0, 48.0, 11.0, 2018.0, 3.0]\n",
      "66 [Timestamp('1970-01-01 00:00:01.543502609'), 14.0, 29.0, 48.0, 11.0, 2018.0, 3.0]\n",
      "67 [Timestamp('1970-01-01 00:00:01.543502867'), 14.0, 29.0, 48.0, 11.0, 2018.0, 3.0]\n",
      "68 [Timestamp('1970-01-01 00:00:01.543503072'), 14.0, 29.0, 48.0, 11.0, 2018.0, 3.0]\n",
      "69 [Timestamp('1970-01-01 00:00:01.543503345'), 14.0, 29.0, 48.0, 11.0, 2018.0, 3.0]\n",
      "70 [Timestamp('1970-01-01 00:00:01.543503472'), 14.0, 29.0, 48.0, 11.0, 2018.0, 3.0]\n",
      "71 [Timestamp('1970-01-01 00:00:01.543503771'), 15.0, 29.0, 48.0, 11.0, 2018.0, 3.0]\n",
      "72 [Timestamp('1970-01-01 00:00:01.543503949'), 15.0, 29.0, 48.0, 11.0, 2018.0, 3.0]\n",
      "73 [Timestamp('1970-01-01 00:00:01.543504012'), 15.0, 29.0, 48.0, 11.0, 2018.0, 3.0]\n",
      "74 [Timestamp('1970-01-01 00:00:01.543504184'), 15.0, 29.0, 48.0, 11.0, 2018.0, 3.0]\n",
      "75 [Timestamp('1970-01-01 00:00:01.543504268'), 15.0, 29.0, 48.0, 11.0, 2018.0, 3.0]\n",
      "76 [Timestamp('1970-01-01 00:00:01.543504295'), 15.0, 29.0, 48.0, 11.0, 2018.0, 3.0]\n",
      "77 [Timestamp('1970-01-01 00:00:01.543504307'), 15.0, 29.0, 48.0, 11.0, 2018.0, 3.0]\n",
      "78 [Timestamp('1970-01-01 00:00:01.543504368'), 15.0, 29.0, 48.0, 11.0, 2018.0, 3.0]\n",
      "79 [Timestamp('1970-01-01 00:00:01.543504474'), 15.0, 29.0, 48.0, 11.0, 2018.0, 3.0]\n",
      "80 [Timestamp('1970-01-01 00:00:01.543504528'), 15.0, 29.0, 48.0, 11.0, 2018.0, 3.0]\n",
      "81 [Timestamp('1970-01-01 00:00:01.543504536'), 15.0, 29.0, 48.0, 11.0, 2018.0, 3.0]\n",
      "82 [Timestamp('1970-01-01 00:00:01.543504573'), 15.0, 29.0, 48.0, 11.0, 2018.0, 3.0]\n",
      "83 [Timestamp('1970-01-01 00:00:01.543504738'), 15.0, 29.0, 48.0, 11.0, 2018.0, 3.0]\n",
      "84 [Timestamp('1970-01-01 00:00:01.543504772'), 15.0, 29.0, 48.0, 11.0, 2018.0, 3.0]\n",
      "85 [Timestamp('1970-01-01 00:00:01.543504830'), 15.0, 29.0, 48.0, 11.0, 2018.0, 3.0]\n",
      "86 [Timestamp('1970-01-01 00:00:01.543504839'), 15.0, 29.0, 48.0, 11.0, 2018.0, 3.0]\n",
      "87 [Timestamp('1970-01-01 00:00:01.543504958'), 15.0, 29.0, 48.0, 11.0, 2018.0, 3.0]\n",
      "88 [Timestamp('1970-01-01 00:00:01.543505055'), 15.0, 29.0, 48.0, 11.0, 2018.0, 3.0]\n",
      "89 [Timestamp('1970-01-01 00:00:01.543505200'), 15.0, 29.0, 48.0, 11.0, 2018.0, 3.0]\n",
      "90 [Timestamp('1970-01-01 00:00:01.543505221'), 15.0, 29.0, 48.0, 11.0, 2018.0, 3.0]\n",
      "91 [Timestamp('1970-01-01 00:00:01.543505257'), 15.0, 29.0, 48.0, 11.0, 2018.0, 3.0]\n",
      "92 [Timestamp('1970-01-01 00:00:01.543505381'), 15.0, 29.0, 48.0, 11.0, 2018.0, 3.0]\n",
      "93 [Timestamp('1970-01-01 00:00:01.543505401'), 15.0, 29.0, 48.0, 11.0, 2018.0, 3.0]\n",
      "94 [Timestamp('1970-01-01 00:00:01.543505457'), 15.0, 29.0, 48.0, 11.0, 2018.0, 3.0]\n",
      "95 [Timestamp('1970-01-01 00:00:01.543505618'), 15.0, 29.0, 48.0, 11.0, 2018.0, 3.0]\n",
      "96 [Timestamp('1970-01-01 00:00:01.543505656'), 15.0, 29.0, 48.0, 11.0, 2018.0, 3.0]\n",
      "97 [Timestamp('1970-01-01 00:00:01.543505792'), 15.0, 29.0, 48.0, 11.0, 2018.0, 3.0]\n",
      "98 [Timestamp('1970-01-01 00:00:01.543505836'), 15.0, 29.0, 48.0, 11.0, 2018.0, 3.0]\n",
      "99 [Timestamp('1970-01-01 00:00:01.543505979'), 15.0, 29.0, 48.0, 11.0, 2018.0, 3.0]\n",
      "100 [Timestamp('1970-01-01 00:00:01.543506077'), 15.0, 29.0, 48.0, 11.0, 2018.0, 3.0]\n",
      "101 [Timestamp('1970-01-01 00:00:01.543506117'), 15.0, 29.0, 48.0, 11.0, 2018.0, 3.0]\n",
      "102 [Timestamp('1970-01-01 00:00:01.543506338'), 15.0, 29.0, 48.0, 11.0, 2018.0, 3.0]\n",
      "103 [Timestamp('1970-01-01 00:00:01.543506341'), 15.0, 29.0, 48.0, 11.0, 2018.0, 3.0]\n",
      "104 [Timestamp('1970-01-01 00:00:01.543506556'), 15.0, 29.0, 48.0, 11.0, 2018.0, 3.0]\n",
      "105 [Timestamp('1970-01-01 00:00:01.543506578'), 15.0, 29.0, 48.0, 11.0, 2018.0, 3.0]\n",
      "106 [Timestamp('1970-01-01 00:00:01.543506819'), 15.0, 29.0, 48.0, 11.0, 2018.0, 3.0]\n",
      "107 [Timestamp('1970-01-01 00:00:01.543506852'), 15.0, 29.0, 48.0, 11.0, 2018.0, 3.0]\n",
      "108 [Timestamp('1970-01-01 00:00:01.543507055'), 15.0, 29.0, 48.0, 11.0, 2018.0, 3.0]\n",
      "109 [Timestamp('1970-01-01 00:00:01.543507075'), 15.0, 29.0, 48.0, 11.0, 2018.0, 3.0]\n",
      "110 [Timestamp('1970-01-01 00:00:01.543507201'), 16.0, 29.0, 48.0, 11.0, 2018.0, 3.0]\n",
      "111 [Timestamp('1970-01-01 00:00:01.543507253'), 16.0, 29.0, 48.0, 11.0, 2018.0, 3.0]\n",
      "112 [Timestamp('1970-01-01 00:00:01.543507446'), 16.0, 29.0, 48.0, 11.0, 2018.0, 3.0]\n",
      "113 [Timestamp('1970-01-01 00:00:01.543507540'), 16.0, 29.0, 48.0, 11.0, 2018.0, 3.0]\n",
      "114 [Timestamp('1970-01-01 00:00:01.543507627'), 16.0, 29.0, 48.0, 11.0, 2018.0, 3.0]\n",
      "115 [Timestamp('1970-01-01 00:00:01.543507751'), 16.0, 29.0, 48.0, 11.0, 2018.0, 3.0]\n",
      "116 [Timestamp('1970-01-01 00:00:01.543507764'), 16.0, 29.0, 48.0, 11.0, 2018.0, 3.0]\n",
      "117 [Timestamp('1970-01-01 00:00:01.543507889'), 16.0, 29.0, 48.0, 11.0, 2018.0, 3.0]\n",
      "118 [Timestamp('1970-01-01 00:00:01.543508003'), 16.0, 29.0, 48.0, 11.0, 2018.0, 3.0]\n",
      "119 [Timestamp('1970-01-01 00:00:01.543508134'), 16.0, 29.0, 48.0, 11.0, 2018.0, 3.0]\n",
      "120 [Timestamp('1970-01-01 00:00:01.543508305'), 16.0, 29.0, 48.0, 11.0, 2018.0, 3.0]\n",
      "121 [Timestamp('1970-01-01 00:00:01.543508370'), 16.0, 29.0, 48.0, 11.0, 2018.0, 3.0]\n",
      "122 [Timestamp('1970-01-01 00:00:01.543508544'), 16.0, 29.0, 48.0, 11.0, 2018.0, 3.0]\n",
      "123 [Timestamp('1970-01-01 00:00:01.543508607'), 16.0, 29.0, 48.0, 11.0, 2018.0, 3.0]\n",
      "124 [Timestamp('1970-01-01 00:00:01.543508781'), 16.0, 29.0, 48.0, 11.0, 2018.0, 3.0]\n",
      "125 [Timestamp('1970-01-01 00:00:01.543508892'), 16.0, 29.0, 48.0, 11.0, 2018.0, 3.0]\n",
      "126 [Timestamp('1970-01-01 00:00:01.543509005'), 16.0, 29.0, 48.0, 11.0, 2018.0, 3.0]\n",
      "127 [Timestamp('1970-01-01 00:00:01.543509079'), 16.0, 29.0, 48.0, 11.0, 2018.0, 3.0]\n",
      "128 [Timestamp('1970-01-01 00:00:01.543509243'), 16.0, 29.0, 48.0, 11.0, 2018.0, 3.0]\n",
      "129 [Timestamp('1970-01-01 00:00:01.543509405'), 16.0, 29.0, 48.0, 11.0, 2018.0, 3.0]\n",
      "130 [Timestamp('1970-01-01 00:00:01.543509509'), 16.0, 29.0, 48.0, 11.0, 2018.0, 3.0]\n",
      "131 [Timestamp('1970-01-01 00:00:01.543509632'), 16.0, 29.0, 48.0, 11.0, 2018.0, 3.0]\n",
      "132 [Timestamp('1970-01-01 00:00:01.543509693'), 16.0, 29.0, 48.0, 11.0, 2018.0, 3.0]\n",
      "133 [Timestamp('1970-01-01 00:00:01.543509697'), 16.0, 29.0, 48.0, 11.0, 2018.0, 3.0]\n",
      "134 [Timestamp('1970-01-01 00:00:01.543509879'), 16.0, 29.0, 48.0, 11.0, 2018.0, 3.0]\n",
      "135 [Timestamp('1970-01-01 00:00:01.543509938'), 16.0, 29.0, 48.0, 11.0, 2018.0, 3.0]\n",
      "136 [Timestamp('1970-01-01 00:00:01.543510058'), 16.0, 29.0, 48.0, 11.0, 2018.0, 3.0]\n",
      "137 [Timestamp('1970-01-01 00:00:01.543510062'), 16.0, 29.0, 48.0, 11.0, 2018.0, 3.0]\n",
      "138 [Timestamp('1970-01-01 00:00:01.543510165'), 16.0, 29.0, 48.0, 11.0, 2018.0, 3.0]\n",
      "139 [Timestamp('1970-01-01 00:00:01.543510216'), 16.0, 29.0, 48.0, 11.0, 2018.0, 3.0]\n",
      "140 [Timestamp('1970-01-01 00:00:01.543510462'), 16.0, 29.0, 48.0, 11.0, 2018.0, 3.0]\n",
      "141 [Timestamp('1970-01-01 00:00:01.543510467'), 16.0, 29.0, 48.0, 11.0, 2018.0, 3.0]\n",
      "142 [Timestamp('1970-01-01 00:00:01.543510481'), 16.0, 29.0, 48.0, 11.0, 2018.0, 3.0]\n",
      "143 [Timestamp('1970-01-01 00:00:01.543510514'), 16.0, 29.0, 48.0, 11.0, 2018.0, 3.0]\n",
      "144 [Timestamp('1970-01-01 00:00:01.543510681'), 16.0, 29.0, 48.0, 11.0, 2018.0, 3.0]\n",
      "145 [Timestamp('1970-01-01 00:00:01.543510683'), 16.0, 29.0, 48.0, 11.0, 2018.0, 3.0]\n",
      "146 [Timestamp('1970-01-01 00:00:01.543510691'), 16.0, 29.0, 48.0, 11.0, 2018.0, 3.0]\n",
      "147 [Timestamp('1970-01-01 00:00:01.543510881'), 17.0, 29.0, 48.0, 11.0, 2018.0, 3.0]\n",
      "148 [Timestamp('1970-01-01 00:00:01.543510894'), 17.0, 29.0, 48.0, 11.0, 2018.0, 3.0]\n",
      "149 [Timestamp('1970-01-01 00:00:01.543510901'), 17.0, 29.0, 48.0, 11.0, 2018.0, 3.0]\n",
      "150 [Timestamp('1970-01-01 00:00:01.543510909'), 17.0, 29.0, 48.0, 11.0, 2018.0, 3.0]\n",
      "151 [Timestamp('1970-01-01 00:00:01.543511110'), 17.0, 29.0, 48.0, 11.0, 2018.0, 3.0]\n",
      "152 [Timestamp('1970-01-01 00:00:01.543511120'), 17.0, 29.0, 48.0, 11.0, 2018.0, 3.0]\n",
      "153 [Timestamp('1970-01-01 00:00:01.543511126'), 17.0, 29.0, 48.0, 11.0, 2018.0, 3.0]\n",
      "154 [Timestamp('1970-01-01 00:00:01.543511176'), 17.0, 29.0, 48.0, 11.0, 2018.0, 3.0]\n",
      "155 [Timestamp('1970-01-01 00:00:01.543511208'), 17.0, 29.0, 48.0, 11.0, 2018.0, 3.0]\n",
      "156 [Timestamp('1970-01-01 00:00:01.543511353'), 17.0, 29.0, 48.0, 11.0, 2018.0, 3.0]\n",
      "157 [Timestamp('1970-01-01 00:00:01.543511354'), 17.0, 29.0, 48.0, 11.0, 2018.0, 3.0]\n",
      "158 [Timestamp('1970-01-01 00:00:01.543511414'), 17.0, 29.0, 48.0, 11.0, 2018.0, 3.0]\n",
      "159 [Timestamp('1970-01-01 00:00:01.543511554'), 17.0, 29.0, 48.0, 11.0, 2018.0, 3.0]\n",
      "160 [Timestamp('1970-01-01 00:00:01.543511635'), 17.0, 29.0, 48.0, 11.0, 2018.0, 3.0]\n",
      "161 [Timestamp('1970-01-01 00:00:01.543511662'), 17.0, 29.0, 48.0, 11.0, 2018.0, 3.0]\n",
      "162 [Timestamp('1970-01-01 00:00:01.543511771'), 17.0, 29.0, 48.0, 11.0, 2018.0, 3.0]\n",
      "163 [Timestamp('1970-01-01 00:00:01.543511881'), 17.0, 29.0, 48.0, 11.0, 2018.0, 3.0]\n",
      "164 [Timestamp('1970-01-01 00:00:01.543511913'), 17.0, 29.0, 48.0, 11.0, 2018.0, 3.0]\n",
      "165 [Timestamp('1970-01-01 00:00:01.543511966'), 17.0, 29.0, 48.0, 11.0, 2018.0, 3.0]\n",
      "166 [Timestamp('1970-01-01 00:00:01.543512121'), 17.0, 29.0, 48.0, 11.0, 2018.0, 3.0]\n",
      "167 [Timestamp('1970-01-01 00:00:01.543512147'), 17.0, 29.0, 48.0, 11.0, 2018.0, 3.0]\n",
      "168 [Timestamp('1970-01-01 00:00:01.543512181'), 17.0, 29.0, 48.0, 11.0, 2018.0, 3.0]\n",
      "169 [Timestamp('1970-01-01 00:00:01.543512272'), 17.0, 29.0, 48.0, 11.0, 2018.0, 3.0]\n",
      "170 [Timestamp('1970-01-01 00:00:01.543512344'), 17.0, 29.0, 48.0, 11.0, 2018.0, 3.0]\n",
      "171 [Timestamp('1970-01-01 00:00:01.543512443'), 17.0, 29.0, 48.0, 11.0, 2018.0, 3.0]\n",
      "172 [Timestamp('1970-01-01 00:00:01.543512518'), 17.0, 29.0, 48.0, 11.0, 2018.0, 3.0]\n",
      "173 [Timestamp('1970-01-01 00:00:01.543512687'), 17.0, 29.0, 48.0, 11.0, 2018.0, 3.0]\n",
      "174 [Timestamp('1970-01-01 00:00:01.543512720'), 17.0, 29.0, 48.0, 11.0, 2018.0, 3.0]\n",
      "175 [Timestamp('1970-01-01 00:00:01.543512802'), 17.0, 29.0, 48.0, 11.0, 2018.0, 3.0]\n",
      "176 [Timestamp('1970-01-01 00:00:01.543512929'), 17.0, 29.0, 48.0, 11.0, 2018.0, 3.0]\n",
      "177 [Timestamp('1970-01-01 00:00:01.543513171'), 17.0, 29.0, 48.0, 11.0, 2018.0, 3.0]\n",
      "178 [Timestamp('1970-01-01 00:00:01.543513188'), 17.0, 29.0, 48.0, 11.0, 2018.0, 3.0]\n",
      "179 [Timestamp('1970-01-01 00:00:01.543513262'), 17.0, 29.0, 48.0, 11.0, 2018.0, 3.0]\n",
      "180 [Timestamp('1970-01-01 00:00:01.543513314'), 17.0, 29.0, 48.0, 11.0, 2018.0, 3.0]\n",
      "181 [Timestamp('1970-01-01 00:00:01.543513401'), 17.0, 29.0, 48.0, 11.0, 2018.0, 3.0]\n",
      "182 [Timestamp('1970-01-01 00:00:01.543513534'), 17.0, 29.0, 48.0, 11.0, 2018.0, 3.0]\n",
      "183 [Timestamp('1970-01-01 00:00:01.543513551'), 17.0, 29.0, 48.0, 11.0, 2018.0, 3.0]\n",
      "184 [Timestamp('1970-01-01 00:00:01.543513705'), 17.0, 29.0, 48.0, 11.0, 2018.0, 3.0]\n",
      "185 [Timestamp('1970-01-01 00:00:01.543513787'), 17.0, 29.0, 48.0, 11.0, 2018.0, 3.0]\n",
      "186 [Timestamp('1970-01-01 00:00:01.543513811'), 17.0, 29.0, 48.0, 11.0, 2018.0, 3.0]\n",
      "187 [Timestamp('1970-01-01 00:00:01.543513872'), 17.0, 29.0, 48.0, 11.0, 2018.0, 3.0]\n",
      "188 [Timestamp('1970-01-01 00:00:01.543513938'), 17.0, 29.0, 48.0, 11.0, 2018.0, 3.0]\n",
      "189 [Timestamp('1970-01-01 00:00:01.543514025'), 17.0, 29.0, 48.0, 11.0, 2018.0, 3.0]\n",
      "190 [Timestamp('1970-01-01 00:00:01.543514154'), 17.0, 29.0, 48.0, 11.0, 2018.0, 3.0]\n",
      "191 [Timestamp('1970-01-01 00:00:01.543514189'), 17.0, 29.0, 48.0, 11.0, 2018.0, 3.0]\n",
      "192 [Timestamp('1970-01-01 00:00:01.543514338'), 17.0, 29.0, 48.0, 11.0, 2018.0, 3.0]\n",
      "193 [Timestamp('1970-01-01 00:00:01.543514393'), 17.0, 29.0, 48.0, 11.0, 2018.0, 3.0]\n",
      "194 [Timestamp('1970-01-01 00:00:01.543514497'), 18.0, 29.0, 48.0, 11.0, 2018.0, 3.0]\n",
      "195 [Timestamp('1970-01-01 00:00:01.543514598'), 18.0, 29.0, 48.0, 11.0, 2018.0, 3.0]\n",
      "196 [Timestamp('1970-01-01 00:00:01.543514618'), 18.0, 29.0, 48.0, 11.0, 2018.0, 3.0]\n",
      "197 [Timestamp('1970-01-01 00:00:01.543514739'), 18.0, 29.0, 48.0, 11.0, 2018.0, 3.0]\n",
      "198 [Timestamp('1970-01-01 00:00:01.543514875'), 18.0, 29.0, 48.0, 11.0, 2018.0, 3.0]\n",
      "199 [Timestamp('1970-01-01 00:00:01.543514877'), 18.0, 29.0, 48.0, 11.0, 2018.0, 3.0]\n",
      "200 [Timestamp('1970-01-01 00:00:01.543514941'), 18.0, 29.0, 48.0, 11.0, 2018.0, 3.0]\n",
      "201 [Timestamp('1970-01-01 00:00:01.543515060'), 18.0, 29.0, 48.0, 11.0, 2018.0, 3.0]\n",
      "202 [Timestamp('1970-01-01 00:00:01.543515175'), 18.0, 29.0, 48.0, 11.0, 2018.0, 3.0]\n",
      "203 [Timestamp('1970-01-01 00:00:01.543515182'), 18.0, 29.0, 48.0, 11.0, 2018.0, 3.0]\n",
      "204 [Timestamp('1970-01-01 00:00:01.543515225'), 18.0, 29.0, 48.0, 11.0, 2018.0, 3.0]\n",
      "205 [Timestamp('1970-01-01 00:00:01.543515284'), 18.0, 29.0, 48.0, 11.0, 2018.0, 3.0]\n",
      "206 [Timestamp('1970-01-01 00:00:01.543515453'), 18.0, 29.0, 48.0, 11.0, 2018.0, 3.0]\n",
      "207 [Timestamp('1970-01-01 00:00:01.543515489'), 18.0, 29.0, 48.0, 11.0, 2018.0, 3.0]\n",
      "208 [Timestamp('1970-01-01 00:00:01.543515672'), 18.0, 29.0, 48.0, 11.0, 2018.0, 3.0]\n",
      "209 [Timestamp('1970-01-01 00:00:01.543515684'), 18.0, 29.0, 48.0, 11.0, 2018.0, 3.0]\n",
      "210 [Timestamp('1970-01-01 00:00:01.543515712'), 18.0, 29.0, 48.0, 11.0, 2018.0, 3.0]\n",
      "211 [Timestamp('1970-01-01 00:00:01.543515869'), 18.0, 29.0, 48.0, 11.0, 2018.0, 3.0]\n",
      "212 [Timestamp('1970-01-01 00:00:01.543515878'), 18.0, 29.0, 48.0, 11.0, 2018.0, 3.0]\n",
      "213 [Timestamp('1970-01-01 00:00:01.543515987'), 18.0, 29.0, 48.0, 11.0, 2018.0, 3.0]\n",
      "214 [Timestamp('1970-01-01 00:00:01.543516013'), 18.0, 29.0, 48.0, 11.0, 2018.0, 3.0]\n",
      "215 [Timestamp('1970-01-01 00:00:01.543516044'), 18.0, 29.0, 48.0, 11.0, 2018.0, 3.0]\n",
      "216 [Timestamp('1970-01-01 00:00:01.543516114'), 18.0, 29.0, 48.0, 11.0, 2018.0, 3.0]\n",
      "217 [Timestamp('1970-01-01 00:00:01.543516190'), 18.0, 29.0, 48.0, 11.0, 2018.0, 3.0]\n",
      "218 [Timestamp('1970-01-01 00:00:01.543516215'), 18.0, 29.0, 48.0, 11.0, 2018.0, 3.0]\n",
      "219 [Timestamp('1970-01-01 00:00:01.543516384'), 18.0, 29.0, 48.0, 11.0, 2018.0, 3.0]\n",
      "220 [Timestamp('1970-01-01 00:00:01.543516415'), 18.0, 29.0, 48.0, 11.0, 2018.0, 3.0]\n",
      "221 [Timestamp('1970-01-01 00:00:01.543516645'), 18.0, 29.0, 48.0, 11.0, 2018.0, 3.0]\n",
      "222 [Timestamp('1970-01-01 00:00:01.543516673'), 18.0, 29.0, 48.0, 11.0, 2018.0, 3.0]\n",
      "223 [Timestamp('1970-01-01 00:00:01.543516869'), 18.0, 29.0, 48.0, 11.0, 2018.0, 3.0]\n",
      "224 [Timestamp('1970-01-01 00:00:01.543517011'), 18.0, 29.0, 48.0, 11.0, 2018.0, 3.0]\n",
      "225 [Timestamp('1970-01-01 00:00:01.543517170'), 18.0, 29.0, 48.0, 11.0, 2018.0, 3.0]\n",
      "226 [Timestamp('1970-01-01 00:00:01.543517250'), 18.0, 29.0, 48.0, 11.0, 2018.0, 3.0]\n",
      "227 [Timestamp('1970-01-01 00:00:01.543517454'), 18.0, 29.0, 48.0, 11.0, 2018.0, 3.0]\n",
      "228 [Timestamp('1970-01-01 00:00:01.543517520'), 18.0, 29.0, 48.0, 11.0, 2018.0, 3.0]\n",
      "229 [Timestamp('1970-01-01 00:00:01.543517724'), 18.0, 29.0, 48.0, 11.0, 2018.0, 3.0]\n",
      "230 [Timestamp('1970-01-01 00:00:01.543517730'), 18.0, 29.0, 48.0, 11.0, 2018.0, 3.0]\n",
      "231 [Timestamp('1970-01-01 00:00:01.543517913'), 18.0, 29.0, 48.0, 11.0, 2018.0, 3.0]\n",
      "232 [Timestamp('1970-01-01 00:00:01.543518017'), 19.0, 29.0, 48.0, 11.0, 2018.0, 3.0]\n",
      "233 [Timestamp('1970-01-01 00:00:01.543518100'), 19.0, 29.0, 48.0, 11.0, 2018.0, 3.0]\n",
      "234 [Timestamp('1970-01-01 00:00:01.543518238'), 19.0, 29.0, 48.0, 11.0, 2018.0, 3.0]\n",
      "235 [Timestamp('1970-01-01 00:00:01.543518284'), 19.0, 29.0, 48.0, 11.0, 2018.0, 3.0]\n",
      "236 [Timestamp('1970-01-01 00:00:01.543518384'), 19.0, 29.0, 48.0, 11.0, 2018.0, 3.0]\n",
      "237 [Timestamp('1970-01-01 00:00:01.543518521'), 19.0, 29.0, 48.0, 11.0, 2018.0, 3.0]\n",
      "238 [Timestamp('1970-01-01 00:00:01.543518587'), 19.0, 29.0, 48.0, 11.0, 2018.0, 3.0]\n",
      "239 [Timestamp('1970-01-01 00:00:01.543518699'), 19.0, 29.0, 48.0, 11.0, 2018.0, 3.0]\n",
      "240 [Timestamp('1970-01-01 00:00:01.543518784'), 19.0, 29.0, 48.0, 11.0, 2018.0, 3.0]\n",
      "241 [Timestamp('1970-01-01 00:00:01.543518896'), 19.0, 29.0, 48.0, 11.0, 2018.0, 3.0]\n",
      "242 [Timestamp('1970-01-01 00:00:01.543518933'), 19.0, 29.0, 48.0, 11.0, 2018.0, 3.0]\n",
      "243 [Timestamp('1970-01-01 00:00:01.543519207'), 19.0, 29.0, 48.0, 11.0, 2018.0, 3.0]\n",
      "244 [Timestamp('1970-01-01 00:00:01.543519479'), 19.0, 29.0, 48.0, 11.0, 2018.0, 3.0]\n",
      "245 [Timestamp('1970-01-01 00:00:01.543519591'), 19.0, 29.0, 48.0, 11.0, 2018.0, 3.0]\n",
      "246 [Timestamp('1970-01-01 00:00:01.543520246'), 19.0, 29.0, 48.0, 11.0, 2018.0, 3.0]\n",
      "247 [Timestamp('1970-01-01 00:00:01.543520417'), 19.0, 29.0, 48.0, 11.0, 2018.0, 3.0]\n",
      "248 [Timestamp('1970-01-01 00:00:01.543520718'), 19.0, 29.0, 48.0, 11.0, 2018.0, 3.0]\n",
      "249 [Timestamp('1970-01-01 00:00:01.543521962'), 20.0, 29.0, 48.0, 11.0, 2018.0, 3.0]\n",
      "250 [Timestamp('1970-01-01 00:00:01.543522138'), 20.0, 29.0, 48.0, 11.0, 2018.0, 3.0]\n",
      "251 [Timestamp('1970-01-01 00:00:01.543522267'), 20.0, 29.0, 48.0, 11.0, 2018.0, 3.0]\n",
      "252 [Timestamp('1970-01-01 00:00:01.543522473'), 20.0, 29.0, 48.0, 11.0, 2018.0, 3.0]\n",
      "253 [Timestamp('1970-01-01 00:00:01.543522715'), 20.0, 29.0, 48.0, 11.0, 2018.0, 3.0]\n",
      "254 [Timestamp('1970-01-01 00:00:01.543522901'), 20.0, 29.0, 48.0, 11.0, 2018.0, 3.0]\n",
      "255 [Timestamp('1970-01-01 00:00:01.543523119'), 20.0, 29.0, 48.0, 11.0, 2018.0, 3.0]\n",
      "256 [Timestamp('1970-01-01 00:00:01.543523363'), 20.0, 29.0, 48.0, 11.0, 2018.0, 3.0]\n",
      "257 [Timestamp('1970-01-01 00:00:01.543523673'), 20.0, 29.0, 48.0, 11.0, 2018.0, 3.0]\n",
      "258 [Timestamp('1970-01-01 00:00:01.543523921'), 20.0, 29.0, 48.0, 11.0, 2018.0, 3.0]\n",
      "259 [Timestamp('1970-01-01 00:00:01.543523950'), 20.0, 29.0, 48.0, 11.0, 2018.0, 3.0]\n",
      "260 [Timestamp('1970-01-01 00:00:01.543524186'), 20.0, 29.0, 48.0, 11.0, 2018.0, 3.0]\n",
      "261 [Timestamp('1970-01-01 00:00:01.543524187'), 20.0, 29.0, 48.0, 11.0, 2018.0, 3.0]\n",
      "262 [Timestamp('1970-01-01 00:00:01.543524407'), 20.0, 29.0, 48.0, 11.0, 2018.0, 3.0]\n",
      "263 [Timestamp('1970-01-01 00:00:01.543524414'), 20.0, 29.0, 48.0, 11.0, 2018.0, 3.0]\n",
      "264 [Timestamp('1970-01-01 00:00:01.543524670'), 20.0, 29.0, 48.0, 11.0, 2018.0, 3.0]\n",
      "265 [Timestamp('1970-01-01 00:00:01.543524725'), 20.0, 29.0, 48.0, 11.0, 2018.0, 3.0]\n",
      "266 [Timestamp('1970-01-01 00:00:01.543524847'), 20.0, 29.0, 48.0, 11.0, 2018.0, 3.0]\n",
      "267 [Timestamp('1970-01-01 00:00:01.543524881'), 20.0, 29.0, 48.0, 11.0, 2018.0, 3.0]\n",
      "268 [Timestamp('1970-01-01 00:00:01.543525124'), 20.0, 29.0, 48.0, 11.0, 2018.0, 3.0]\n",
      "269 [Timestamp('1970-01-01 00:00:01.543525203'), 21.0, 29.0, 48.0, 11.0, 2018.0, 3.0]\n",
      "270 [Timestamp('1970-01-01 00:00:01.543525267'), 21.0, 29.0, 48.0, 11.0, 2018.0, 3.0]\n",
      "271 [Timestamp('1970-01-01 00:00:01.543525400'), 21.0, 29.0, 48.0, 11.0, 2018.0, 3.0]\n",
      "272 [Timestamp('1970-01-01 00:00:01.543525563'), 21.0, 29.0, 48.0, 11.0, 2018.0, 3.0]\n",
      "273 [Timestamp('1970-01-01 00:00:01.543525595'), 21.0, 29.0, 48.0, 11.0, 2018.0, 3.0]\n",
      "274 [Timestamp('1970-01-01 00:00:01.543525760'), 21.0, 29.0, 48.0, 11.0, 2018.0, 3.0]\n",
      "275 [Timestamp('1970-01-01 00:00:01.543525976'), 21.0, 29.0, 48.0, 11.0, 2018.0, 3.0]\n",
      "276 [Timestamp('1970-01-01 00:00:01.543526056'), 21.0, 29.0, 48.0, 11.0, 2018.0, 3.0]\n",
      "277 [Timestamp('1970-01-01 00:00:01.543526089'), 21.0, 29.0, 48.0, 11.0, 2018.0, 3.0]\n",
      "278 [Timestamp('1970-01-01 00:00:01.543526213'), 21.0, 29.0, 48.0, 11.0, 2018.0, 3.0]\n",
      "279 [Timestamp('1970-01-01 00:00:01.543526250'), 21.0, 29.0, 48.0, 11.0, 2018.0, 3.0]\n",
      "280 [Timestamp('1970-01-01 00:00:01.543526358'), 21.0, 29.0, 48.0, 11.0, 2018.0, 3.0]\n",
      "281 [Timestamp('1970-01-01 00:00:01.543526457'), 21.0, 29.0, 48.0, 11.0, 2018.0, 3.0]\n",
      "282 [Timestamp('1970-01-01 00:00:01.543526507'), 21.0, 29.0, 48.0, 11.0, 2018.0, 3.0]\n",
      "283 [Timestamp('1970-01-01 00:00:01.543526538'), 21.0, 29.0, 48.0, 11.0, 2018.0, 3.0]\n",
      "284 [Timestamp('1970-01-01 00:00:01.543526643'), 21.0, 29.0, 48.0, 11.0, 2018.0, 3.0]\n",
      "285 [Timestamp('1970-01-01 00:00:01.543526675'), 21.0, 29.0, 48.0, 11.0, 2018.0, 3.0]\n",
      "286 [Timestamp('1970-01-01 00:00:01.543526820'), 21.0, 29.0, 48.0, 11.0, 2018.0, 3.0]\n",
      "287 [Timestamp('1970-01-01 00:00:01.543526868'), 21.0, 29.0, 48.0, 11.0, 2018.0, 3.0]\n",
      "288 [Timestamp('1970-01-01 00:00:01.543526870'), 21.0, 29.0, 48.0, 11.0, 2018.0, 3.0]\n",
      "289 [Timestamp('1970-01-01 00:00:01.543527047'), 21.0, 29.0, 48.0, 11.0, 2018.0, 3.0]\n",
      "290 [Timestamp('1970-01-01 00:00:01.543527094'), 21.0, 29.0, 48.0, 11.0, 2018.0, 3.0]\n",
      "291 [Timestamp('1970-01-01 00:00:01.543527265'), 21.0, 29.0, 48.0, 11.0, 2018.0, 3.0]\n",
      "292 [Timestamp('1970-01-01 00:00:01.543527268'), 21.0, 29.0, 48.0, 11.0, 2018.0, 3.0]\n",
      "293 [Timestamp('1970-01-01 00:00:01.543527488'), 21.0, 29.0, 48.0, 11.0, 2018.0, 3.0]\n",
      "294 [Timestamp('1970-01-01 00:00:01.543527730'), 21.0, 29.0, 48.0, 11.0, 2018.0, 3.0]\n",
      "295 [Timestamp('1970-01-01 00:00:01.543528009'), 21.0, 29.0, 48.0, 11.0, 2018.0, 3.0]\n",
      "296 [Timestamp('1970-01-01 00:00:01.543528377'), 21.0, 29.0, 48.0, 11.0, 2018.0, 3.0]\n",
      "297 [Timestamp('1970-01-01 00:00:01.543528636'), 21.0, 29.0, 48.0, 11.0, 2018.0, 3.0]\n",
      "298 [Timestamp('1970-01-01 00:00:01.543528831'), 22.0, 29.0, 48.0, 11.0, 2018.0, 3.0]\n",
      "299 [Timestamp('1970-01-01 00:00:01.543529196'), 22.0, 29.0, 48.0, 11.0, 2018.0, 3.0]\n",
      "300 [Timestamp('1970-01-01 00:00:01.543529397'), 22.0, 29.0, 48.0, 11.0, 2018.0, 3.0]\n",
      "301 [Timestamp('1970-01-01 00:00:01.543529417'), 22.0, 29.0, 48.0, 11.0, 2018.0, 3.0]\n",
      "302 [Timestamp('1970-01-01 00:00:01.543529595'), 22.0, 29.0, 48.0, 11.0, 2018.0, 3.0]\n",
      "303 [Timestamp('1970-01-01 00:00:01.543529618'), 22.0, 29.0, 48.0, 11.0, 2018.0, 3.0]\n",
      "304 [Timestamp('1970-01-01 00:00:01.543529858'), 22.0, 29.0, 48.0, 11.0, 2018.0, 3.0]\n",
      "305 [Timestamp('1970-01-01 00:00:01.543530091'), 22.0, 29.0, 48.0, 11.0, 2018.0, 3.0]\n",
      "306 [Timestamp('1970-01-01 00:00:01.543530451'), 22.0, 29.0, 48.0, 11.0, 2018.0, 3.0]\n",
      "307 [Timestamp('1970-01-01 00:00:01.543530769'), 22.0, 29.0, 48.0, 11.0, 2018.0, 3.0]\n",
      "308 [Timestamp('1970-01-01 00:00:01.543530944'), 22.0, 29.0, 48.0, 11.0, 2018.0, 3.0]\n",
      "309 [Timestamp('1970-01-01 00:00:01.543531178'), 22.0, 29.0, 48.0, 11.0, 2018.0, 3.0]\n",
      "310 [Timestamp('1970-01-01 00:00:01.543531372'), 22.0, 29.0, 48.0, 11.0, 2018.0, 3.0]\n",
      "311 [Timestamp('1970-01-01 00:00:01.543531583'), 22.0, 29.0, 48.0, 11.0, 2018.0, 3.0]\n",
      "312 [Timestamp('1970-01-01 00:00:01.543531827'), 22.0, 29.0, 48.0, 11.0, 2018.0, 3.0]\n",
      "313 [Timestamp('1970-01-01 00:00:01.543531878'), 22.0, 29.0, 48.0, 11.0, 2018.0, 3.0]\n",
      "314 [Timestamp('1970-01-01 00:00:01.543532012'), 22.0, 29.0, 48.0, 11.0, 2018.0, 3.0]\n",
      "315 [Timestamp('1970-01-01 00:00:01.543532242'), 22.0, 29.0, 48.0, 11.0, 2018.0, 3.0]\n",
      "316 [Timestamp('1970-01-01 00:00:01.543532525'), 23.0, 29.0, 48.0, 11.0, 2018.0, 3.0]\n",
      "317 [Timestamp('1970-01-01 00:00:01.543532713'), 23.0, 29.0, 48.0, 11.0, 2018.0, 3.0]\n",
      "318 [Timestamp('1970-01-01 00:00:01.543533515'), 23.0, 29.0, 48.0, 11.0, 2018.0, 3.0]\n"
     ]
    }
   ],
   "source": [
    "for i, row in time_df.iterrows():\n",
    "    print(i, list(row))\n",
    "    cur.execute(time_table_insert, list(row))\n",
    "    conn.commit()"
   ]
  },
  {
   "cell_type": "markdown",
   "metadata": {
    "editable": true
   },
   "source": [
    "Run `test.ipynb` to see if you've successfully added records to this table."
   ]
  },
  {
   "cell_type": "markdown",
   "metadata": {
    "editable": true
   },
   "source": [
    "## #4: `users` Table\n",
    "#### Extract Data for Users Table\n",
    "- Select columns for user ID, first name, last name, gender and level and set to `user_df`"
   ]
  },
  {
   "cell_type": "code",
   "execution_count": 30,
   "metadata": {
    "editable": true
   },
   "outputs": [
    {
     "data": {
      "text/html": [
       "<div>\n",
       "<style scoped>\n",
       "    .dataframe tbody tr th:only-of-type {\n",
       "        vertical-align: middle;\n",
       "    }\n",
       "\n",
       "    .dataframe tbody tr th {\n",
       "        vertical-align: top;\n",
       "    }\n",
       "\n",
       "    .dataframe thead th {\n",
       "        text-align: right;\n",
       "    }\n",
       "</style>\n",
       "<table border=\"1\" class=\"dataframe\">\n",
       "  <thead>\n",
       "    <tr style=\"text-align: right;\">\n",
       "      <th></th>\n",
       "      <th>userId</th>\n",
       "      <th>firstName</th>\n",
       "      <th>lastName</th>\n",
       "      <th>gender</th>\n",
       "      <th>level</th>\n",
       "    </tr>\n",
       "  </thead>\n",
       "  <tbody>\n",
       "    <tr>\n",
       "      <th>0</th>\n",
       "      <td>73</td>\n",
       "      <td>Jacob</td>\n",
       "      <td>Klein</td>\n",
       "      <td>M</td>\n",
       "      <td>paid</td>\n",
       "    </tr>\n",
       "    <tr>\n",
       "      <th>1</th>\n",
       "      <td>24</td>\n",
       "      <td>Layla</td>\n",
       "      <td>Griffin</td>\n",
       "      <td>F</td>\n",
       "      <td>paid</td>\n",
       "    </tr>\n",
       "    <tr>\n",
       "      <th>2</th>\n",
       "      <td>24</td>\n",
       "      <td>Layla</td>\n",
       "      <td>Griffin</td>\n",
       "      <td>F</td>\n",
       "      <td>paid</td>\n",
       "    </tr>\n",
       "    <tr>\n",
       "      <th>3</th>\n",
       "      <td>73</td>\n",
       "      <td>Jacob</td>\n",
       "      <td>Klein</td>\n",
       "      <td>M</td>\n",
       "      <td>paid</td>\n",
       "    </tr>\n",
       "    <tr>\n",
       "      <th>4</th>\n",
       "      <td>24</td>\n",
       "      <td>Layla</td>\n",
       "      <td>Griffin</td>\n",
       "      <td>F</td>\n",
       "      <td>paid</td>\n",
       "    </tr>\n",
       "  </tbody>\n",
       "</table>\n",
       "</div>"
      ],
      "text/plain": [
       "  userId firstName lastName gender level\n",
       "0     73     Jacob    Klein      M  paid\n",
       "1     24     Layla  Griffin      F  paid\n",
       "2     24     Layla  Griffin      F  paid\n",
       "3     73     Jacob    Klein      M  paid\n",
       "4     24     Layla  Griffin      F  paid"
      ]
     },
     "execution_count": 30,
     "metadata": {},
     "output_type": "execute_result"
    }
   ],
   "source": [
    "user_df = df.loc[:, ['userId', 'firstName', 'lastName', 'gender', 'level']]\n",
    "user_df.head()"
   ]
  },
  {
   "cell_type": "markdown",
   "metadata": {
    "editable": true
   },
   "source": [
    "#### Insert Records into Users Table\n",
    "Implement the `user_table_insert` query in `sql_queries.py` and run the cell below to insert records for the users in this log file into the `users` table. Remember to run `create_tables.py` before running the cell below to ensure you've created/resetted the `users` table in the sparkify database."
   ]
  },
  {
   "cell_type": "code",
   "execution_count": 31,
   "metadata": {
    "editable": true
   },
   "outputs": [],
   "source": [
    "for i, row in user_df.iterrows():\n",
    "    cur.execute(user_table_insert, row)\n",
    "    conn.commit()"
   ]
  },
  {
   "cell_type": "markdown",
   "metadata": {
    "editable": true
   },
   "source": [
    "Run `test.ipynb` to see if you've successfully added records to this table."
   ]
  },
  {
   "cell_type": "markdown",
   "metadata": {
    "editable": true
   },
   "source": [
    "## #5: `songplays` Table\n",
    "#### Extract Data and Songplays Table\n",
    "This one is a little more complicated since information from the songs table, artists table, and original log file are all needed for the `songplays` table. Since the log file does not specify an ID for either the song or the artist, you'll need to get the song ID and artist ID by querying the songs and artists tables to find matches based on song title, artist name, and song duration time.\n",
    "- Implement the `song_select` query in `sql_queries.py` to find the song ID and artist ID based on the title, artist name, and duration of a song.\n",
    "- Select the timestamp, user ID, level, song ID, artist ID, session ID, location, and user agent and set to `songplay_data`\n",
    "\n",
    "#### Insert Records into Songplays Table\n",
    "- Implement the `songplay_table_insert` query and run the cell below to insert records for the songplay actions in this log file into the `songplays` table. Remember to run `create_tables.py` before running the cell below to ensure you've created/resetted the `songplays` table in the sparkify database."
   ]
  },
  {
   "cell_type": "code",
   "execution_count": 41,
   "metadata": {
    "editable": true
   },
   "outputs": [],
   "source": [
    "for index, row in df.iterrows():\n",
    "\n",
    "    # get songid and artistid from song and artist tables\n",
    "    cur.execute(song_select, (row.song, row.artist, row.length))\n",
    "    results = cur.fetchone()\n",
    "    \n",
    "    if results:\n",
    "        songid, artistid = results\n",
    "    else:\n",
    "        songid, artistid = None, None\n",
    "\n",
    "    # insert songplay record\n",
    "    songplay_data = (index, pd.to_datetime(row.ts, unit='ms').timestamp(), \n",
    "                     int(row.userId), row.level, songid, artistid,\n",
    "                     row.sessionId, row.location, row.userAgent)\n",
    "    cur.execute(songplay_table_insert, songplay_data)\n",
    "    conn.commit()"
   ]
  },
  {
   "cell_type": "markdown",
   "metadata": {
    "editable": true
   },
   "source": [
    "Run `test.ipynb` to see if you've successfully added records to this table."
   ]
  },
  {
   "cell_type": "markdown",
   "metadata": {
    "editable": true
   },
   "source": [
    "# Close Connection to Sparkify Database"
   ]
  },
  {
   "cell_type": "code",
   "execution_count": 42,
   "metadata": {
    "editable": true
   },
   "outputs": [],
   "source": [
    "conn.close()"
   ]
  },
  {
   "cell_type": "markdown",
   "metadata": {
    "editable": true
   },
   "source": [
    "# Implement `etl.py`\n",
    "Use what you've completed in this notebook to implement `etl.py`."
   ]
  },
  {
   "cell_type": "code",
   "execution_count": null,
   "metadata": {
    "editable": true
   },
   "outputs": [],
   "source": []
  }
 ],
 "metadata": {
  "kernelspec": {
   "display_name": "Python 3",
   "language": "python",
   "name": "python3"
  },
  "language_info": {
   "codemirror_mode": {
    "name": "ipython",
    "version": 3
   },
   "file_extension": ".py",
   "mimetype": "text/x-python",
   "name": "python",
   "nbconvert_exporter": "python",
   "pygments_lexer": "ipython3",
   "version": "3.6.3"
  }
 },
 "nbformat": 4,
 "nbformat_minor": 4
}
