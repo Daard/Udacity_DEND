{
 "cells": [
  {
   "cell_type": "code",
   "execution_count": 42,
   "metadata": {
    "editable": true
   },
   "outputs": [
    {
     "data": {
      "text/plain": [
       "['dl.cfg']"
      ]
     },
     "execution_count": 42,
     "metadata": {},
     "output_type": "execute_result"
    }
   ],
   "source": [
    "import configparser\n",
    "from datetime import datetime\n",
    "import os\n",
    "from pyspark.sql import SparkSession\n",
    "from pyspark.sql.functions import udf, col, monotonically_increasing_id\n",
    "from pyspark.sql.functions import year, month, dayofmonth, hour, weekofyear, date_format\n",
    "from pyspark.sql import types as t\n",
    "\n",
    "config = configparser.ConfigParser()\n",
    "config.read('dl.cfg')"
   ]
  },
  {
   "cell_type": "code",
   "execution_count": 2,
   "metadata": {
    "editable": true
   },
   "outputs": [],
   "source": [
    "def create_spark_session():\n",
    "    spark = SparkSession.builder.config(\"spark.jars.packages\", \"org.apache.hadoop:hadoop-aws:2.7.0\").getOrCreate()\n",
    "    return spark\n",
    "\n",
    "spark = create_spark_session()"
   ]
  },
  {
   "cell_type": "markdown",
   "metadata": {
    "editable": true
   },
   "source": [
    "# Process log_data"
   ]
  },
  {
   "cell_type": "code",
   "execution_count": 33,
   "metadata": {
    "editable": true
   },
   "outputs": [],
   "source": [
    "input_data = config['LOCAL']['LOG_DATA']\n",
    "output_data = config['LOCAL']['OUTPUT_DATA']\n",
    "song_data_input = config['LOCAL']['SONG_DATA']"
   ]
  },
  {
   "cell_type": "code",
   "execution_count": 5,
   "metadata": {
    "editable": true
   },
   "outputs": [],
   "source": [
    "df = spark.read.json(input_data)"
   ]
  },
  {
   "cell_type": "code",
   "execution_count": 6,
   "metadata": {
    "editable": true
   },
   "outputs": [
    {
     "name": "stdout",
     "output_type": "stream",
     "text": [
      "root\n",
      " |-- artist: string (nullable = true)\n",
      " |-- auth: string (nullable = true)\n",
      " |-- firstName: string (nullable = true)\n",
      " |-- gender: string (nullable = true)\n",
      " |-- itemInSession: long (nullable = true)\n",
      " |-- lastName: string (nullable = true)\n",
      " |-- length: double (nullable = true)\n",
      " |-- level: string (nullable = true)\n",
      " |-- location: string (nullable = true)\n",
      " |-- method: string (nullable = true)\n",
      " |-- page: string (nullable = true)\n",
      " |-- registration: double (nullable = true)\n",
      " |-- sessionId: long (nullable = true)\n",
      " |-- song: string (nullable = true)\n",
      " |-- status: long (nullable = true)\n",
      " |-- ts: long (nullable = true)\n",
      " |-- userAgent: string (nullable = true)\n",
      " |-- userId: string (nullable = true)\n",
      "\n"
     ]
    }
   ],
   "source": [
    "df.printSchema()"
   ]
  },
  {
   "cell_type": "code",
   "execution_count": 10,
   "metadata": {
    "editable": true
   },
   "outputs": [],
   "source": [
    "df = df.filter(df.page == 'NextSong')"
   ]
  },
  {
   "cell_type": "markdown",
   "metadata": {
    "editable": true
   },
   "source": [
    "## Process users"
   ]
  },
  {
   "cell_type": "code",
   "execution_count": 11,
   "metadata": {
    "editable": true
   },
   "outputs": [],
   "source": [
    "df.createOrReplaceTempView(\"users_table\")"
   ]
  },
  {
   "cell_type": "code",
   "execution_count": 13,
   "metadata": {
    "editable": true
   },
   "outputs": [
    {
     "name": "stdout",
     "output_type": "stream",
     "text": [
      "CPU times: user 1.27 ms, sys: 268 µs, total: 1.54 ms\n",
      "Wall time: 31.6 ms\n"
     ]
    }
   ],
   "source": [
    "%%time\n",
    "users_table = spark.sql(\"\"\"\n",
    "                            SELECT  DISTINCT userId    AS user_id,\n",
    "                                             firstName AS first_name,\n",
    "                                             lastName  AS last_name,\n",
    "                                             gender,\n",
    "                                             level\n",
    "                            FROM users_table\n",
    "                            \"\"\")"
   ]
  },
  {
   "cell_type": "code",
   "execution_count": 14,
   "metadata": {
    "editable": true
   },
   "outputs": [
    {
     "name": "stdout",
     "output_type": "stream",
     "text": [
      "CPU times: user 3.7 ms, sys: 0 ns, total: 3.7 ms\n",
      "Wall time: 12.4 s\n"
     ]
    }
   ],
   "source": [
    "%%time\n",
    "users_path = output_data + \"users_table\"\n",
    "users_table.write.mode(\"overwrite\").parquet(users_path)"
   ]
  },
  {
   "cell_type": "markdown",
   "metadata": {
    "editable": true
   },
   "source": [
    "## Process time table"
   ]
  },
  {
   "cell_type": "code",
   "execution_count": 27,
   "metadata": {
    "editable": true
   },
   "outputs": [],
   "source": [
    "@udf(t.TimestampType())\n",
    "def get_timestamp(ts):\n",
    "    return datetime.fromtimestamp(ts / 1000.0)\n",
    "\n",
    "@udf(t.StringType())\n",
    "def get_datetime(ts):\n",
    "    return datetime.fromtimestamp(ts / 1000.0)\\\n",
    "        .strftime('%Y-%m-%d %H:%M:%S')"
   ]
  },
  {
   "cell_type": "code",
   "execution_count": 28,
   "metadata": {
    "editable": true
   },
   "outputs": [
    {
     "name": "stdout",
     "output_type": "stream",
     "text": [
      "root\n",
      " |-- artist: string (nullable = true)\n",
      " |-- auth: string (nullable = true)\n",
      " |-- firstName: string (nullable = true)\n",
      " |-- gender: string (nullable = true)\n",
      " |-- itemInSession: long (nullable = true)\n",
      " |-- lastName: string (nullable = true)\n",
      " |-- length: double (nullable = true)\n",
      " |-- level: string (nullable = true)\n",
      " |-- location: string (nullable = true)\n",
      " |-- method: string (nullable = true)\n",
      " |-- page: string (nullable = true)\n",
      " |-- registration: double (nullable = true)\n",
      " |-- sessionId: long (nullable = true)\n",
      " |-- song: string (nullable = true)\n",
      " |-- status: long (nullable = true)\n",
      " |-- ts: long (nullable = true)\n",
      " |-- userAgent: string (nullable = true)\n",
      " |-- userId: string (nullable = true)\n",
      " |-- timestamp: timestamp (nullable = true)\n",
      " |-- datetime: string (nullable = true)\n",
      "\n",
      "+-----------+---------+---------+------+-------------+--------+---------+-----+--------------------+------+--------+-----------------+---------+--------------------+------+-------------+--------------------+------+--------------------+-------------------+\n",
      "|     artist|     auth|firstName|gender|itemInSession|lastName|   length|level|            location|method|    page|     registration|sessionId|                song|status|           ts|           userAgent|userId|           timestamp|           datetime|\n",
      "+-----------+---------+---------+------+-------------+--------+---------+-----+--------------------+------+--------+-----------------+---------+--------------------+------+-------------+--------------------+------+--------------------+-------------------+\n",
      "|   Harmonia|Logged In|     Ryan|     M|            0|   Smith|655.77751| free|San Jose-Sunnyval...|   PUT|NextSong|1.541016707796E12|      583|       Sehr kosmisch|   200|1542241826796|\"Mozilla/5.0 (X11...|    26|2018-11-15 00:30:...|2018-11-15 00:30:26|\n",
      "|The Prodigy|Logged In|     Ryan|     M|            1|   Smith|260.07465| free|San Jose-Sunnyval...|   PUT|NextSong|1.541016707796E12|      583|     The Big Gundown|   200|1542242481796|\"Mozilla/5.0 (X11...|    26|2018-11-15 00:41:...|2018-11-15 00:41:21|\n",
      "|      Train|Logged In|     Ryan|     M|            2|   Smith|205.45261| free|San Jose-Sunnyval...|   PUT|NextSong|1.541016707796E12|      583|            Marry Me|   200|1542242741796|\"Mozilla/5.0 (X11...|    26|2018-11-15 00:45:...|2018-11-15 00:45:41|\n",
      "|Sony Wonder|Logged In|   Samuel|     M|            0|Gonzalez|218.06975| free|Houston-The Woodl...|   PUT|NextSong|1.540492941796E12|      597|           Blackbird|   200|1542253449796|\"Mozilla/5.0 (Mac...|    61|2018-11-15 03:44:...|2018-11-15 03:44:09|\n",
      "|  Van Halen|Logged In|    Tegan|     F|            2|  Levine|289.38404| paid|Portland-South Po...|   PUT|NextSong|1.540794356796E12|      602|Best Of Both Worl...|   200|1542260935796|\"Mozilla/5.0 (Mac...|    80|2018-11-15 05:48:...|2018-11-15 05:48:55|\n",
      "+-----------+---------+---------+------+-------------+--------+---------+-----+--------------------+------+--------+-----------------+---------+--------------------+------+-------------+--------------------+------+--------------------+-------------------+\n",
      "only showing top 5 rows\n",
      "\n"
     ]
    }
   ],
   "source": [
    "df = df.withColumn('timestamp', get_timestamp('ts'))\n",
    "df = df.withColumn('datetime', get_datetime('ts'))\n",
    "df.printSchema()\n",
    "df.show(5)"
   ]
  },
  {
   "cell_type": "code",
   "execution_count": 23,
   "metadata": {
    "editable": true
   },
   "outputs": [
    {
     "name": "stdout",
     "output_type": "stream",
     "text": [
      "+-----------------------+\n",
      "|timestamp              |\n",
      "+-----------------------+\n",
      "|2018-11-15 00:30:26.796|\n",
      "|2018-11-15 00:41:21.796|\n",
      "|2018-11-15 00:45:41.796|\n",
      "|2018-11-15 03:44:09.796|\n",
      "|2018-11-15 05:48:55.796|\n",
      "+-----------------------+\n",
      "only showing top 5 rows\n",
      "\n"
     ]
    }
   ],
   "source": [
    "df.select('timestamp').show(5, truncate=False)"
   ]
  },
  {
   "cell_type": "code",
   "execution_count": 29,
   "metadata": {
    "editable": true
   },
   "outputs": [
    {
     "name": "stdout",
     "output_type": "stream",
     "text": [
      "CPU times: user 1.25 ms, sys: 248 µs, total: 1.5 ms\n",
      "Wall time: 54.2 ms\n"
     ]
    }
   ],
   "source": [
    "%%time\n",
    "df.createOrReplaceTempView(\"time_table\")\n",
    "time_table = spark.sql(\"\"\"SELECT  DISTINCT datetime AS start_time,\n",
    "                             hour(timestamp) AS hour,\n",
    "                             day(timestamp)  AS day,\n",
    "                             weekofyear(timestamp) AS week,\n",
    "                             month(timestamp) AS month,\n",
    "                             year(timestamp) AS year,\n",
    "                             dayofweek(timestamp) AS weekday\n",
    "                          FROM time_table\"\"\")"
   ]
  },
  {
   "cell_type": "code",
   "execution_count": 30,
   "metadata": {
    "editable": true
   },
   "outputs": [
    {
     "name": "stdout",
     "output_type": "stream",
     "text": [
      "+-------------------+----+---+----+-----+----+-------+\n",
      "|         start_time|hour|day|week|month|year|weekday|\n",
      "+-------------------+----+---+----+-----+----+-------+\n",
      "|2018-11-15 11:35:35|  11| 15|  46|   11|2018|      5|\n",
      "|2018-11-21 09:36:21|   9| 21|  47|   11|2018|      4|\n",
      "|2018-11-14 05:11:42|   5| 14|  46|   11|2018|      4|\n",
      "|2018-11-14 08:10:20|   8| 14|  46|   11|2018|      4|\n",
      "|2018-11-28 22:24:08|  22| 28|  48|   11|2018|      4|\n",
      "+-------------------+----+---+----+-----+----+-------+\n",
      "only showing top 5 rows\n",
      "\n"
     ]
    }
   ],
   "source": [
    "time_table.show(5)"
   ]
  },
  {
   "cell_type": "code",
   "execution_count": 32,
   "metadata": {
    "editable": true
   },
   "outputs": [
    {
     "name": "stdout",
     "output_type": "stream",
     "text": [
      "CPU times: user 20.4 ms, sys: 16.6 ms, total: 37 ms\n",
      "Wall time: 10.1 s\n"
     ]
    }
   ],
   "source": [
    "%%time\n",
    "time_table_path = output_data + \"time_table\"\n",
    "time_table.write.mode(\"overwrite\").partitionBy(\"year\", \"month\")\\\n",
    "            .parquet(time_table_path)"
   ]
  },
  {
   "cell_type": "markdown",
   "metadata": {
    "editable": true
   },
   "source": [
    "## Process songplays"
   ]
  },
  {
   "cell_type": "code",
   "execution_count": 35,
   "metadata": {
    "editable": true
   },
   "outputs": [
    {
     "name": "stdout",
     "output_type": "stream",
     "text": [
      "CPU times: user 1.96 ms, sys: 420 µs, total: 2.38 ms\n",
      "Wall time: 1.72 s\n"
     ]
    }
   ],
   "source": [
    "%%time\n",
    "song_df = spark.read.json(song_data_input)"
   ]
  },
  {
   "cell_type": "code",
   "execution_count": 62,
   "metadata": {
    "editable": true
   },
   "outputs": [
    {
     "data": {
      "text/plain": [
       "71"
      ]
     },
     "execution_count": 62,
     "metadata": {},
     "output_type": "execute_result"
    }
   ],
   "source": [
    "song_df.count()"
   ]
  },
  {
   "cell_type": "code",
   "execution_count": 67,
   "metadata": {
    "editable": true
   },
   "outputs": [
    {
     "name": "stdout",
     "output_type": "stream",
     "text": [
      "CPU times: user 1.93 ms, sys: 418 µs, total: 2.35 ms\n",
      "Wall time: 24.9 ms\n"
     ]
    }
   ],
   "source": [
    "%%time\n",
    "joined = df.join(song_df, (df.artist == song_df.artist_name) & (df.song == song_df.title))"
   ]
  },
  {
   "cell_type": "code",
   "execution_count": 68,
   "metadata": {
    "editable": true
   },
   "outputs": [],
   "source": [
    "joined = joined.withColumn(\"songplay_id\", monotonically_increasing_id())"
   ]
  },
  {
   "cell_type": "code",
   "execution_count": 69,
   "metadata": {
    "editable": true
   },
   "outputs": [
    {
     "data": {
      "text/plain": [
       "1"
      ]
     },
     "execution_count": 69,
     "metadata": {},
     "output_type": "execute_result"
    }
   ],
   "source": [
    "joined.count()"
   ]
  },
  {
   "cell_type": "code",
   "execution_count": 71,
   "metadata": {
    "editable": true
   },
   "outputs": [],
   "source": [
    "joined.createOrReplaceTempView(\"songplays_table\")\n",
    "songplays_table = spark.sql(\"\"\"\n",
    "                                SELECT  songplay_id AS songplay_id,\n",
    "                                        timestamp   AS start_time,\n",
    "                                        year(timestamp) AS year,\n",
    "                                        month(timestamp) AS month, \n",
    "                                        userId      AS user_id,\n",
    "                                        level       AS level,\n",
    "                                        song_id     AS song_id,\n",
    "                                        artist_id   AS artist_id,\n",
    "                                        sessionId   AS session_id,\n",
    "                                        location    AS location,\n",
    "                                        userAgent   AS user_agent\n",
    "                                FROM songplays_table\n",
    "                                \"\"\")"
   ]
  },
  {
   "cell_type": "code",
   "execution_count": 72,
   "metadata": {
    "editable": true
   },
   "outputs": [
    {
     "name": "stdout",
     "output_type": "stream",
     "text": [
      "root\n",
      " |-- songplay_id: long (nullable = false)\n",
      " |-- start_time: timestamp (nullable = true)\n",
      " |-- year: integer (nullable = true)\n",
      " |-- month: integer (nullable = true)\n",
      " |-- user_id: string (nullable = true)\n",
      " |-- level: string (nullable = true)\n",
      " |-- song_id: string (nullable = true)\n",
      " |-- artist_id: string (nullable = true)\n",
      " |-- session_id: long (nullable = true)\n",
      " |-- location: string (nullable = true)\n",
      " |-- user_agent: string (nullable = true)\n",
      "\n"
     ]
    }
   ],
   "source": [
    "songplays_table.printSchema()"
   ]
  },
  {
   "cell_type": "code",
   "execution_count": 73,
   "metadata": {
    "editable": true
   },
   "outputs": [
    {
     "name": "stdout",
     "output_type": "stream",
     "text": [
      "CPU times: user 2.8 ms, sys: 0 ns, total: 2.8 ms\n",
      "Wall time: 1.02 s\n"
     ]
    }
   ],
   "source": [
    "%%time\n",
    "songplays_table_path = output_data + \"songplays_table\"\n",
    "songplays_table.write.mode(\"overwrite\").partitionBy(\"year\", \"month\")\\\n",
    "            .parquet(songplays_table_path)"
   ]
  },
  {
   "cell_type": "markdown",
   "metadata": {
    "editable": true
   },
   "source": [
    "## All together"
   ]
  },
  {
   "cell_type": "code",
   "execution_count": 91,
   "metadata": {
    "editable": true
   },
   "outputs": [],
   "source": [
    "def process_log_data(spark, input_data, song_input, output_data):\n",
    "    # get filepath to log data file\n",
    "    log_data = input_data\n",
    "\n",
    "    # read log data file\n",
    "    print('Start reading logs')\n",
    "    start = datetime.now()\n",
    "    df = spark.read.json(log_data)\n",
    "    print('finished:', f\"{(datetime.now() - start).total_seconds()} s\")\n",
    "    df.printSchema()\n",
    "    print('------------')\n",
    "    \n",
    "    # filter by actions for song plays\n",
    "    df = df.filter(df.page == 'NextSong')\n",
    "    \n",
    "    # extract columns for users table   \n",
    "    print('Start users columns extracting')\n",
    "    start = datetime.now()\n",
    "    df.createOrReplaceTempView(\"users_table\")\n",
    "    users_table = spark.sql(\"\"\"\n",
    "        SELECT  DISTINCT userId    AS user_id,\n",
    "            firstName AS first_name,\n",
    "            lastName  AS last_name,\n",
    "            gender,\n",
    "            level \n",
    "        FROM users_table\"\"\")\n",
    "    \n",
    "    print('finished:', f\"{(datetime.now() - start).total_seconds()} s\")\n",
    "    users_table.printSchema()\n",
    "    users_table.show(5)\n",
    "    print('------------')\n",
    "    \n",
    "    # write users table to parquet files\n",
    "    print('Start artists writting')\n",
    "    start = datetime.now()\n",
    "    users_path = output_data + \"users_table\"\n",
    "    users_table.write.mode(\"overwrite\").parquet(users_path)\n",
    "    print('finished:', f\"{(datetime.now() - start).total_seconds()} s\")\n",
    "    print('------------')\n",
    "\n",
    "    # create timestamp and datetime columns from original timestamp column\n",
    "    print('start adding new timestamp and datetime columns')\n",
    "    start = datetime.now()\n",
    "    @udf(t.TimestampType())\n",
    "    def get_timestamp (ts):\n",
    "        return datetime.fromtimestamp(ts / 1000.0)\n",
    "    \n",
    "    @udf(t.StringType())\n",
    "    def get_datetime(ts):\n",
    "        return datetime.fromtimestamp(ts / 1000.0)\\\n",
    "                       .strftime('%Y-%m-%d %H:%M:%S')\n",
    "    \n",
    "    df = df.withColumn('timestamp', get_timestamp('ts'))\n",
    "    df = df.withColumn('datetime', get_datetime('ts'))\n",
    "    \n",
    "    print('finished:', f\"{(datetime.now() - start).total_seconds()} s\")\n",
    "    df.printSchema()\n",
    "    print('------------')\n",
    "    \n",
    "    # extract columns to create time table\n",
    "    print('Start time columns extracting')\n",
    "    start = datetime.now()\n",
    "    df.createOrReplaceTempView(\"time_table\")\n",
    "    time_table = spark.sql(\"\"\"SELECT  DISTINCT datetime AS start_time,\n",
    "                             hour(timestamp) AS hour,\n",
    "                             day(timestamp)  AS day,\n",
    "                             weekofyear(timestamp) AS week,\n",
    "                             month(timestamp) AS month,\n",
    "                             year(timestamp) AS year,\n",
    "                             dayofweek(timestamp) AS weekday\n",
    "                          FROM time_table\"\"\")\n",
    "    print('finished:', f\"{(datetime.now() - start).total_seconds()} s\")\n",
    "    time_table.printSchema()\n",
    "    time_table.show(5)\n",
    "    print('------------')                                         \n",
    "    \n",
    "    # write time table to parquet files partitioned by year and month\n",
    "    print('Start time table writting')\n",
    "    start = datetime.now()\n",
    "    time_table_path = output_data + \"time_table\"\n",
    "    time_table.write.mode(\"overwrite\").partitionBy(\"year\", \"month\")\\\n",
    "            .parquet(time_table_path)\n",
    "    print('finished:', f\"{(datetime.now() - start).total_seconds()} s\")\n",
    "    print('------------')   \n",
    "    \n",
    "    # read in song data to use for songplays table\n",
    "    print('Start song data reading')\n",
    "    start = datetime.now()\n",
    "    song_df = spark.read.json(song_input)\n",
    "    print('finished:', f\"{(datetime.now() - start).total_seconds()} s\")\n",
    "    print('------------')   \n",
    "\n",
    "    # extract columns from joined song and log datasets to create songplays table \n",
    "    print('Start songplays columns exctraction')\n",
    "    start = datetime.now()\n",
    "    joined = df.join(song_df, (df.artist == song_df.artist_name) & (df.song == song_df.title))\n",
    "    joined = joined.withColumn(\"songplay_id\", monotonically_increasing_id())\n",
    "    joined.createOrReplaceTempView(\"songplays_table\")\n",
    "    songplays_table = spark.sql(\"\"\"\n",
    "                                SELECT  songplay_id AS songplay_id,\n",
    "                                        timestamp   AS start_time,\n",
    "                                        year(timestamp) AS year,\n",
    "                                        month(timestamp) AS month, \n",
    "                                        userId      AS user_id,\n",
    "                                        level       AS level,\n",
    "                                        song_id     AS song_id,\n",
    "                                        artist_id   AS artist_id,\n",
    "                                        sessionId   AS session_id,\n",
    "                                        location    AS location,\n",
    "                                        userAgent   AS user_agent\n",
    "                                FROM songplays_table\n",
    "                                \"\"\")\n",
    "    print('finished:', f\"{(datetime.now() - start).total_seconds()} s\")\n",
    "    songplays_table.printSchema()\n",
    "    songplays_table.show(5)\n",
    "    print('------------')   \n",
    "\n",
    "    # write songplays table to parquet files partitioned by year and month\n",
    "    print('Start songplays writting')\n",
    "    start = datetime.now()\n",
    "    songplays_table_path = output_data + \"songplays_table\"\n",
    "    songplays_table.write.mode(\"overwrite\").partitionBy(\"year\", \"month\")\\\n",
    "            .parquet(songplays_table_path)\n",
    "    print('finished:', f\"{(datetime.now() - start).total_seconds()} s\")\n",
    "    print('------------')   "
   ]
  },
  {
   "cell_type": "code",
   "execution_count": 92,
   "metadata": {
    "editable": true
   },
   "outputs": [
    {
     "name": "stdout",
     "output_type": "stream",
     "text": [
      "Start reading logs\n",
      "finished: 0.314747 s\n",
      "root\n",
      " |-- artist: string (nullable = true)\n",
      " |-- auth: string (nullable = true)\n",
      " |-- firstName: string (nullable = true)\n",
      " |-- gender: string (nullable = true)\n",
      " |-- itemInSession: long (nullable = true)\n",
      " |-- lastName: string (nullable = true)\n",
      " |-- length: double (nullable = true)\n",
      " |-- level: string (nullable = true)\n",
      " |-- location: string (nullable = true)\n",
      " |-- method: string (nullable = true)\n",
      " |-- page: string (nullable = true)\n",
      " |-- registration: double (nullable = true)\n",
      " |-- sessionId: long (nullable = true)\n",
      " |-- song: string (nullable = true)\n",
      " |-- status: long (nullable = true)\n",
      " |-- ts: long (nullable = true)\n",
      " |-- userAgent: string (nullable = true)\n",
      " |-- userId: string (nullable = true)\n",
      "\n",
      "------------\n",
      "Start users columns extracting\n",
      "finished: 0.021298 s\n",
      "root\n",
      " |-- user_id: string (nullable = true)\n",
      " |-- first_name: string (nullable = true)\n",
      " |-- last_name: string (nullable = true)\n",
      " |-- gender: string (nullable = true)\n",
      " |-- level: string (nullable = true)\n",
      "\n",
      "+-------+----------+---------+------+-----+\n",
      "|user_id|first_name|last_name|gender|level|\n",
      "+-------+----------+---------+------+-----+\n",
      "|     98|    Jordyn|   Powell|     F| free|\n",
      "|     34|    Evelin|    Ayala|     F| free|\n",
      "|     85|   Kinsley|    Young|     F| paid|\n",
      "|     38|    Gianna|    Jones|     F| free|\n",
      "|     85|   Kinsley|    Young|     F| free|\n",
      "+-------+----------+---------+------+-----+\n",
      "only showing top 5 rows\n",
      "\n",
      "------------\n",
      "Start artists writting\n",
      "finished: 4.664697 s\n",
      "------------\n",
      "start adding new timestamp and datetime columns\n",
      "finished: 0.103043 s\n",
      "root\n",
      " |-- artist: string (nullable = true)\n",
      " |-- auth: string (nullable = true)\n",
      " |-- firstName: string (nullable = true)\n",
      " |-- gender: string (nullable = true)\n",
      " |-- itemInSession: long (nullable = true)\n",
      " |-- lastName: string (nullable = true)\n",
      " |-- length: double (nullable = true)\n",
      " |-- level: string (nullable = true)\n",
      " |-- location: string (nullable = true)\n",
      " |-- method: string (nullable = true)\n",
      " |-- page: string (nullable = true)\n",
      " |-- registration: double (nullable = true)\n",
      " |-- sessionId: long (nullable = true)\n",
      " |-- song: string (nullable = true)\n",
      " |-- status: long (nullable = true)\n",
      " |-- ts: long (nullable = true)\n",
      " |-- userAgent: string (nullable = true)\n",
      " |-- userId: string (nullable = true)\n",
      " |-- timestamp: timestamp (nullable = true)\n",
      " |-- datetime: string (nullable = true)\n",
      "\n",
      "------------\n",
      "Start time columns extracting\n",
      "finished: 0.035094 s\n",
      "root\n",
      " |-- start_time: string (nullable = true)\n",
      " |-- hour: integer (nullable = true)\n",
      " |-- day: integer (nullable = true)\n",
      " |-- week: integer (nullable = true)\n",
      " |-- month: integer (nullable = true)\n",
      " |-- year: integer (nullable = true)\n",
      " |-- weekday: integer (nullable = true)\n",
      "\n",
      "+-------------------+----+---+----+-----+----+-------+\n",
      "|         start_time|hour|day|week|month|year|weekday|\n",
      "+-------------------+----+---+----+-----+----+-------+\n",
      "|2018-11-15 11:35:35|  11| 15|  46|   11|2018|      5|\n",
      "|2018-11-21 09:36:21|   9| 21|  47|   11|2018|      4|\n",
      "|2018-11-14 05:11:42|   5| 14|  46|   11|2018|      4|\n",
      "|2018-11-14 08:10:20|   8| 14|  46|   11|2018|      4|\n",
      "|2018-11-28 22:24:08|  22| 28|  48|   11|2018|      4|\n",
      "+-------------------+----+---+----+-----+----+-------+\n",
      "only showing top 5 rows\n",
      "\n",
      "------------\n",
      "Start time table writting\n",
      "finished: 7.29115 s\n",
      "------------\n",
      "Start song data reading\n",
      "finished: 1.208615 s\n",
      "------------\n",
      "Start songplays columns exctraction\n",
      "finished: 0.057901 s\n",
      "root\n",
      " |-- songplay_id: long (nullable = false)\n",
      " |-- start_time: timestamp (nullable = true)\n",
      " |-- year: integer (nullable = true)\n",
      " |-- month: integer (nullable = true)\n",
      " |-- user_id: string (nullable = true)\n",
      " |-- level: string (nullable = true)\n",
      " |-- song_id: string (nullable = true)\n",
      " |-- artist_id: string (nullable = true)\n",
      " |-- session_id: long (nullable = true)\n",
      " |-- location: string (nullable = true)\n",
      " |-- user_agent: string (nullable = true)\n",
      "\n",
      "+-----------+--------------------+----+-----+-------+-----+------------------+------------------+----------+--------------------+--------------------+\n",
      "|songplay_id|          start_time|year|month|user_id|level|           song_id|         artist_id|session_id|            location|          user_agent|\n",
      "+-----------+--------------------+----+-----+-------+-----+------------------+------------------+----------+--------------------+--------------------+\n",
      "|          0|2018-11-21 21:56:...|2018|   11|     15| paid|SOZCTXZ12AB0182364|AR5KOSW1187FB35FF4|       818|Chicago-Napervill...|\"Mozilla/5.0 (X11...|\n",
      "+-----------+--------------------+----+-----+-------+-----+------------------+------------------+----------+--------------------+--------------------+\n",
      "\n",
      "------------\n",
      "Start songplays writting\n",
      "finished: 0.619279 s\n",
      "------------\n"
     ]
    }
   ],
   "source": [
    "process_log_data(spark, input_data, song_data_input, output_data)"
   ]
  },
  {
   "cell_type": "code",
   "execution_count": null,
   "metadata": {
    "editable": true
   },
   "outputs": [],
   "source": []
  }
 ],
 "metadata": {
  "kernelspec": {
   "display_name": "Python 3",
   "language": "python",
   "name": "python3"
  },
  "language_info": {
   "codemirror_mode": {
    "name": "ipython",
    "version": 3
   },
   "file_extension": ".py",
   "mimetype": "text/x-python",
   "name": "python",
   "nbconvert_exporter": "python",
   "pygments_lexer": "ipython3",
   "version": "3.6.3"
  }
 },
 "nbformat": 4,
 "nbformat_minor": 4
}
